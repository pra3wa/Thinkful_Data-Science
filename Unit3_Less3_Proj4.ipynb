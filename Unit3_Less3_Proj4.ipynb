{
 "cells": [
  {
   "cell_type": "code",
   "execution_count": 1,
   "metadata": {},
   "outputs": [],
   "source": [
    "#Thinkful's Data Science Program\n",
    "#Fundamentals-Unit 3/Lesson 3/Project 4\n",
    "#DRILL-Descriptive Statistics and Normality\n",
    "#Choose 6 distribtuions available in NumPy and create\n",
    "#a historgram for each one.\n",
    "\n",
    "import numpy as np\n",
    "import pandas as pd\n",
    "import matplotlib.pyplot as plt\n",
    "%matplotlib inline"
   ]
  },
  {
   "cell_type": "code",
   "execution_count": 13,
   "metadata": {},
   "outputs": [
    {
     "data": {
      "image/png": "[encoded data removed]",
      "text/plain": [
       "<Figure size 432x288 with 1 Axes>"
      ]
     },
     "metadata": {
      "needs_background": "light"
     },
     "output_type": "display_data"
    }
   ],
   "source": [
    "#Distribution #1: Exponential Distribution\n",
    "\n",
    "exponential=np.random.exponential(5,100)\n",
    "\n",
    "plt.hist(exponential, color='cornflowerblue')\n",
    "\n",
    "# Add a vertical line at the mean.\n",
    "plt.axvline(exponential.mean(), color='orange', linestyle='solid', linewidth=2)\n",
    "\n",
    "# Add a vertical line at one standard deviation above the mean.\n",
    "plt.axvline(exponential.mean() + exponential.std(), color='orange', linestyle='dashed', linewidth=2)\n",
    "\n",
    "# Add a vertical line at one standard deviation below the mean.\n",
    "plt.axvline(exponential.mean()-exponential.std(), color='orange', linestyle='dashed', linewidth=2) \n",
    "\n",
    "plt.show()\n",
    "\n",
    "#The descriptive statistics (mean & standard deviation) doesn't \n",
    "#seem to provide useful information for the exponential distribution, because the\n",
    "#data isn't distributed evenly or isn't symmetrical around the mean and one standard deviation away. "
   ]
  },
  {
   "cell_type": "code",
   "execution_count": 15,
   "metadata": {},
   "outputs": [
    {
     "data": {
      "image/png": "[encoded data removed]",
      "text/plain": [
       "<Figure size 432x288 with 1 Axes>"
      ]
     },
     "metadata": {
      "needs_background": "light"
     },
     "output_type": "display_data"
    }
   ],
   "source": [
    "#Distribution #2: Geometric Distribution\n",
    "\n",
    "geometric=np.random.geometric(0.35,100)\n",
    "\n",
    "plt.hist(geometric, color='plum')\n",
    "\n",
    "# Add a vertical line at the mean.\n",
    "plt.axvline(geometric.mean(), color='blue', linestyle='solid', linewidth=2)\n",
    "\n",
    "# Add a vertical line at one standard deviation above the mean.\n",
    "plt.axvline(geometric.mean() + geometric.std(), color='blue', linestyle='dashed', linewidth=2)\n",
    "\n",
    "# Add a vertical line at one standard deviation below the mean.\n",
    "plt.axvline(geometric.mean()-geometric.std(), color='blue', linestyle='dashed', linewidth=2) \n",
    "\n",
    "plt.show()\n",
    "\n",
    "#The Geometric Distribution gives the probability of getting 'x' successes in one trial.\n",
    "#The descriptive statistics doesn't provide useful information about the variable."
   ]
  },
  {
   "cell_type": "code",
   "execution_count": 24,
   "metadata": {},
   "outputs": [
    {
     "data": {
      "image/png": "[encoded data removed]",
      "text/plain": [
       "<Figure size 432x288 with 1 Axes>"
      ]
     },
     "metadata": {
      "needs_background": "light"
     },
     "output_type": "display_data"
    }
   ],
   "source": [
    "#Distribution #3: Multinomial Distribution\n",
    "\n",
    "multinomial=np.random.multinomial(100,[1/6.]*6)\n",
    "\n",
    "plt.hist(multinomial, color='yellowgreen')\n",
    "\n",
    "# Add a vertical line at the mean.\n",
    "plt.axvline(multinomial.mean(), color='crimson', linestyle='solid', linewidth=2)\n",
    "\n",
    "# Add a vertical line at one standard deviation above the mean.\n",
    "plt.axvline(multinomial.mean() + multinomial.std(), color='crimson', linestyle='dashed', linewidth=2)\n",
    "\n",
    "# Add a vertical line at one standard deviation below the mean.\n",
    "plt.axvline(multinomial.mean()-multinomial.std(), color='crimson', linestyle='dashed', linewidth=2) \n",
    "\n",
    "plt.show()\n",
    "\n",
    "#The multinomial distribution is the probability distributio of the outcome from a\n",
    "#multiomial experiment, what's the probability of counts for rolling a 'k'-sided die 'n' times.\n",
    "#Because the distribution measures an \"either/or\" type of scenario, the mean and the \n",
    "#standard deviation aren't useful about the variables."
   ]
  },
  {
   "cell_type": "code",
   "execution_count": 28,
   "metadata": {},
   "outputs": [
    {
     "data": {
      "image/png": "[encoded data removed]",
      "text/plain": [
       "<Figure size 432x288 with 1 Axes>"
      ]
     },
     "metadata": {
      "needs_background": "light"
     },
     "output_type": "display_data"
    }
   ],
   "source": [
    "#Distribution #4: Rayleigh Distribution\n",
    "\n",
    "rayleigh=np.random.rayleigh(1,100)\n",
    "\n",
    "plt.hist(rayleigh, color='coral')\n",
    "\n",
    "# Add a vertical line at the mean.\n",
    "plt.axvline(rayleigh.mean(), color='blueviolet', linestyle='solid', linewidth=2)\n",
    "\n",
    "# Add a vertical line at one standard deviation above the mean.\n",
    "plt.axvline(rayleigh.mean() + rayleigh.std(), color='blueviolet', linestyle='dashed', linewidth=2)\n",
    "\n",
    "# Add a vertical line at one standard deviation below the mean.\n",
    "plt.axvline(rayleigh.mean()-rayleigh.std(), color='blueviolet', linestyle='dashed', linewidth=2) \n",
    "\n",
    "plt.show()\n",
    "\n",
    "#The mean and the standard deviation also doesn't present any useful information regarding the variable,\n",
    "#similar to previous examples. "
   ]
  },
  {
   "cell_type": "code",
   "execution_count": 29,
   "metadata": {},
   "outputs": [
    {
     "data": {
      "image/png": "[encoded data removed]",
      "text/plain": [
       "<Figure size 432x288 with 1 Axes>"
      ]
     },
     "metadata": {
      "needs_background": "light"
     },
     "output_type": "display_data"
    }
   ],
   "source": [
    "#Distribution #5: Uniform Distribution\n",
    "\n",
    "uniform=np.random.uniform(0,1,100)\n",
    "\n",
    "plt.hist(uniform, color='slateblue')\n",
    "\n",
    "# Add a vertical line at the mean.\n",
    "plt.axvline(uniform.mean(), color='gold', linestyle='solid', linewidth=2)\n",
    "\n",
    "# Add a vertical line at one standard deviation above the mean.\n",
    "plt.axvline(uniform.mean() + uniform.std(), color='gold', linestyle='dashed', linewidth=2)\n",
    "\n",
    "# Add a vertical line at one standard deviation below the mean.\n",
    "plt.axvline(uniform.mean()-uniform.std(), color='gold', linestyle='dashed', linewidth=2) \n",
    "\n",
    "plt.show()\n",
    "\n",
    "#The uniform distribution doesn't arise from the central limit theorem,\n",
    "#because it is a distribution that has a constant probability. Therefore,\n",
    "#the mean and the standard deviation doesn't say much about the variable. "
   ]
  },
  {
   "cell_type": "code",
   "execution_count": 34,
   "metadata": {},
   "outputs": [
    {
     "data": {
      "image/png": "[encoded data removed]",
      "text/plain": [
       "<Figure size 432x288 with 1 Axes>"
      ]
     },
     "metadata": {
      "needs_background": "light"
     },
     "output_type": "display_data"
    }
   ],
   "source": [
    "#Distribution #6: Wald Distribution\n",
    "\n",
    "wald=np.random.wald(3,2,100)\n",
    "\n",
    "plt.hist(wald, color='goldenrod')\n",
    "\n",
    "# Add a vertical line at the mean.\n",
    "plt.axvline(wald.mean(), color='deeppink', linestyle='solid', linewidth=2)\n",
    "\n",
    "# Add a vertical line at one standard deviation above the mean.\n",
    "plt.axvline(wald.mean() + wald.std(), color='deeppink', linestyle='dashed', linewidth=2)\n",
    "\n",
    "# Add a vertical line at one standard deviation below the mean.\n",
    "plt.axvline(wald.mean()-wald.std(), color='deeppink', linestyle='dashed', linewidth=2) \n",
    "\n",
    "plt.show()\n",
    "\n",
    "#Because the Wald Distribution or the Inverse Gaussian Distribution \n",
    "#is the distribution over [0, infinity], the mean and standard \n",
    "#deviation aren't helpful. \n"
   ]
  },
  {
   "cell_type": "code",
   "execution_count": 38,
   "metadata": {},
   "outputs": [
    {
     "data": {
      "image/png": "[encoded data removed]",
      "text/plain": [
       "<Figure size 432x288 with 1 Axes>"
      ]
     },
     "metadata": {
      "needs_background": "light"
     },
     "output_type": "display_data"
    }
   ],
   "source": [
    "#Additional Problem: Generate two normally-distributed variables,one with a mean of 5 and standard deviation of 0.5, \n",
    "#and the other with a mean of 10 and standard deviation of 1. Add them together to create a third variable, then create \n",
    "#a historgram.\n",
    "\n",
    "rand1=np.random.normal(5,0.5,100)\n",
    "rand2=np.random.normal(10,1,100)\n",
    "\n",
    "plt.hist(rand1)\n",
    "plt.hist(rand2)\n",
    "\n",
    "rand3=rand1+rand2\n"
   ]
  },
  {
   "cell_type": "code",
   "execution_count": 37,
   "metadata": {},
   "outputs": [
    {
     "data": {
      "image/png": "[encoded data removed]",
      "text/plain": [
       "<Figure size 432x288 with 1 Axes>"
      ]
     },
     "metadata": {
      "needs_background": "light"
     },
     "output_type": "display_data"
    }
   ],
   "source": [
    "plt.hist(rand3, color='aquamarine')\n",
    "\n",
    "# Add a vertical line at the mean.\n",
    "plt.axvline(rand3.mean(), color='hotpink', linestyle='solid', linewidth=2)\n",
    "\n",
    "# Add a vertical line at one standard deviation above the mean.\n",
    "plt.axvline(rand3.mean() + rand3.std(), color='hotpink', linestyle='dashed', linewidth=2)\n",
    "\n",
    "# Add a vertical line at one standard deviation below the mean.\n",
    "plt.axvline(rand3.mean()-rand3.std(), color='hotpink', linestyle='dashed', linewidth=2) \n",
    "\n",
    "plt.show()"
   ]
  },
  {
   "cell_type": "code",
   "execution_count": null,
   "metadata": {},
   "outputs": [],
   "source": [
    "#The mean of the data (rand3) is between 15-16, but closer to 15.\n",
    "#Although the rand3 is created by summing two normal distributions, the stats\n",
    "#show some skew(?). Skewness is used to define the extent to which a distribution\n",
    "#differs from a normal distribution. \n",
    "#**Wants clarification as to why summing two normal distributions doesn't also give\n",
    "#a normal distribution in return? Why does rand3 have skew and not a normal distribution?"
   ]
  }
 ],
 "metadata": {
  "kernelspec": {
   "display_name": "Python 3",
   "language": "python",
   "name": "python3"
  },
  "language_info": {
   "codemirror_mode": {
    "name": "ipython",
    "version": 3
   },
   "file_extension": ".py",
   "mimetype": "text/x-python",
   "name": "python",
   "nbconvert_exporter": "python",
   "pygments_lexer": "ipython3",
   "version": "3.7.1"
  }
 },
 "nbformat": 4,
 "nbformat_minor": 2
}
