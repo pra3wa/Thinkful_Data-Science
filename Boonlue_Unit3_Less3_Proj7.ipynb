{
 "cells": [
  {
   "cell_type": "code",
   "execution_count": 3,
   "metadata": {},
   "outputs": [],
   "source": [
    "#Thinkful Data Science Program\n",
    "\n",
    "#Unit 3/Lesson 3/Project 7\n",
    "\n",
    "#DRILL- Exploring the Central Limit Theorem\n",
    "\n",
    "import numpy as np\n",
    "import pandas as pd\n",
    "import scipy.stats \n",
    "import matplotlib.pyplot as plt\n",
    "%matplotlib inline"
   ]
  },
  {
   "cell_type": "code",
   "execution_count": 6,
   "metadata": {},
   "outputs": [
    {
     "data": {
      "image/png": "[encoded data removed]",
      "text/plain": [
       "<Figure size 432x288 with 1 Axes>"
      ]
     },
     "metadata": {
      "needs_background": "light"
     },
     "output_type": "display_data"
    }
   ],
   "source": [
    "pop1=np.random.binomial(10,0.2,10000)\n",
    "pop2=np.random.binomial(10,0.5,10000)\n",
    "\n",
    "#Histograms for pop1 and pop2\n",
    "\n",
    "plt.hist(pop1, color='mediumseagreen', alpha=0.5, label='Population 1') \n",
    "plt.hist(pop2, color='deeppink', alpha=0.5, label='Population 2') \n",
    "plt.legend(loc='upper right') \n",
    "plt.show()"
   ]
  },
  {
   "cell_type": "code",
   "execution_count": 22,
   "metadata": {},
   "outputs": [],
   "source": [
    "#Taking samples from each of the population\n",
    "sample1=np.random.choice(pop1,100, replace=True)\n",
    "sample2=np.random.choice(pop2,100, replace=True)"
   ]
  },
  {
   "cell_type": "code",
   "execution_count": 23,
   "metadata": {},
   "outputs": [
    {
     "name": "stdout",
     "output_type": "stream",
     "text": [
      "The mean for sample1 is 2.1\n",
      "The mean for sample2 is 5.2\n",
      "\n",
      "\n",
      "The standard deviation for sample1 is 1.1958260743101399\n",
      "The standard deviation for sample2 is 1.7088007490635064\n"
     ]
    }
   ],
   "source": [
    "#Calculating mean and standard deviation for the two samples\n",
    "print('The mean for sample1 is {}'.format(sample1.mean()))\n",
    "print('The mean for sample2 is {}'.format(sample2.mean()))\n",
    "print('\\n')\n",
    "print('The standard deviation for sample1 is {}'.format(sample1.std()))\n",
    "print('The standard deviation for sample2 is {}'.format(sample2.std()))"
   ]
  },
  {
   "cell_type": "code",
   "execution_count": null,
   "metadata": {},
   "outputs": [],
   "source": [
    "#Question 1: Increasing the size of samples to 1000 and \n",
    "#decrease the size of samples to 20. What vaules will change?\n",
    "\n",
    "#Prediction: Because the two populations are different from one another (with different p-values),\n",
    "#a larger sample size will give a mean and a standard deviation that are more representative\n",
    "#of the population than smaller sample size. The mean should remain relatively the same, while\n",
    "#the standard deviation will be greater as there is more likely to be variance with a larger data set."
   ]
  },
  {
   "cell_type": "code",
   "execution_count": 30,
   "metadata": {},
   "outputs": [
    {
     "name": "stdout",
     "output_type": "stream",
     "text": [
      "The mean for sample1b is 2.007\n",
      "The mean for sample2b is 4.953\n",
      "\n",
      "\n",
      "The standard deviation for sample1b is 1.2356985878441393\n",
      "The standard deviation for sample2b is 1.5351843537503893\n",
      "\n",
      "\n"
     ]
    },
    {
     "data": {
      "image/png": "[encoded data removed]",
      "text/plain": [
       "<Figure size 432x288 with 1 Axes>"
      ]
     },
     "metadata": {
      "needs_background": "light"
     },
     "output_type": "display_data"
    }
   ],
   "source": [
    "#Increasing the sample size to 1000\n",
    "\n",
    "sample1b=np.random.choice(pop1,1000, replace=True)\n",
    "sample2b=np.random.choice(pop2,1000, replace=True)\n",
    "\n",
    "print('The mean for sample1b is {}'.format(sample1b.mean()))\n",
    "print('The mean for sample2b is {}'.format(sample2b.mean()))\n",
    "print('\\n')\n",
    "print('The standard deviation for sample1b is {}'.format(sample1b.std()))\n",
    "print('The standard deviation for sample2b is {}'.format(sample2b.std()))\n",
    "print('\\n')\n",
    "plt.hist(sample1b,color='mediumseagreen', alpha=0.5, label='Sample 1b') \n",
    "plt.hist(sample2b,color='deeppink', alpha=0.5, label='Sample 2b') \n",
    "plt.title('Sample size of 1000')\n",
    "plt.legend(loc='upper right') \n",
    "plt.show()"
   ]
  },
  {
   "cell_type": "code",
   "execution_count": 34,
   "metadata": {},
   "outputs": [
    {
     "name": "stdout",
     "output_type": "stream",
     "text": [
      "The mean for sample1c is 1.7\n",
      "The mean for sample2c is 5.1\n",
      "\n",
      "\n",
      "The standard deviation for sample1c is 1.1\n",
      "The standard deviation for sample2c is 1.5132745950421556\n",
      "\n",
      "\n"
     ]
    },
    {
     "data": {
      "image/png": "[encoded data removed]",
      "text/plain": [
       "<Figure size 432x288 with 1 Axes>"
      ]
     },
     "metadata": {
      "needs_background": "light"
     },
     "output_type": "display_data"
    }
   ],
   "source": [
    "#Decreasing sample size to 20\n",
    "\n",
    "sample1c=np.random.choice(pop1,20, replace=True)\n",
    "sample2c=np.random.choice(pop2,20, replace=True)\n",
    "\n",
    "print('The mean for sample1c is {}'.format(sample1c.mean()))\n",
    "print('The mean for sample2c is {}'.format(sample2c.mean()))\n",
    "print('\\n')\n",
    "print('The standard deviation for sample1c is {}'.format(sample1c.std()))\n",
    "print('The standard deviation for sample2c is {}'.format(sample2c.std()))\n",
    "print('\\n')\n",
    "plt.hist(sample1c,color='mediumseagreen', alpha=0.5, label='Sample 1c') \n",
    "plt.hist(sample2c,color='deeppink', alpha=0.5, label='Sample 2c') \n",
    "plt.title('Sample size of 20')\n",
    "plt.legend(loc='upper right') \n",
    "plt.show()"
   ]
  },
  {
   "cell_type": "code",
   "execution_count": 35,
   "metadata": {},
   "outputs": [],
   "source": [
    "#Question 2: Change the p-value for pop1 to 0.3 then 0.4, take new samples and commpute t-stats & p-value. \n",
    "\n",
    "#Prediction: By movng the p-value of pop1 to 0.3 and 0.4, we are moving pop1 to be closer to pop2 (decreasing their differences)\n",
    "#The t-value will decrease and p-value will increase as the data sets are more similar. The greater the magnitude\n",
    "#of the t-value --> the greater evidence that thre is a significant difference between the data set.The higher the p-value,\n",
    "#the more likelhood that the difference in population is due to variability in the samples and not a difference in the population\n",
    "#itself. "
   ]
  },
  {
   "cell_type": "code",
   "execution_count": 36,
   "metadata": {},
   "outputs": [
    {
     "name": "stdout",
     "output_type": "stream",
     "text": [
      "Ttest_indResult(statistic=9.317427653362072, pvalue=2.4480197577240102e-17)\n"
     ]
    }
   ],
   "source": [
    "#Change to p=0.3 for pop1\n",
    "\n",
    "pop1=np.random.binomial(10,0.3,10000)\n",
    "pop2=np.random.binomial(10,0.5,10000)\n",
    "\n",
    "sample1d = np.random.choice(pop1, 100, replace=True)\n",
    "sample2d = np.random.choice(pop2, 100, replace=True)\n",
    "\n",
    "from scipy.stats import ttest_ind\n",
    "print(ttest_ind(sample2d, sample1d, equal_var=False))"
   ]
  },
  {
   "cell_type": "code",
   "execution_count": 37,
   "metadata": {},
   "outputs": [
    {
     "name": "stdout",
     "output_type": "stream",
     "text": [
      "Ttest_indResult(statistic=3.2481375146280294, pvalue=0.0013648857661205697)\n"
     ]
    }
   ],
   "source": [
    "#Change to p=0.4 for pop1\n",
    "\n",
    "pop1=np.random.binomial(10,0.4,10000)\n",
    "pop2=np.random.binomial(10,0.5,10000)\n",
    "\n",
    "sample1e = np.random.choice(pop1, 100, replace=True)\n",
    "sample2e = np.random.choice(pop2, 100, replace=True)\n",
    "\n",
    "from scipy.stats import ttest_ind\n",
    "print(ttest_ind(sample2e, sample1e, equal_var=False))"
   ]
  },
  {
   "cell_type": "code",
   "execution_count": null,
   "metadata": {},
   "outputs": [],
   "source": [
    "#Question 3: According to the Central Limit Theorem, although a population doesn't have a binomial/normal distribution,\n",
    "#the mean values can still be a useful factor if the sample size is large enough. For other types of distriutio other than\n",
    "#normal, I think it would be difficult to use a histogram to determine whether or not the sample mean values are adequate, \n",
    "#I believe that calculations will give a more comprehensive answer. (**Need to check with mentor)"
   ]
  }
 ],
 "metadata": {
  "kernelspec": {
   "display_name": "Python 3",
   "language": "python",
   "name": "python3"
  },
  "language_info": {
   "codemirror_mode": {
    "name": "ipython",
    "version": 3
   },
   "file_extension": ".py",
   "mimetype": "text/x-python",
   "name": "python",
   "nbconvert_exporter": "python",
   "pygments_lexer": "ipython3",
   "version": "3.7.1"
  }
 },
 "nbformat": 4,
 "nbformat_minor": 2
}
