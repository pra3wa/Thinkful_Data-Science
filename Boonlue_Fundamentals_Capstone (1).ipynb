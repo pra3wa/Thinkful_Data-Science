{
 "cells": [
  {
   "cell_type": "markdown",
   "metadata": {},
   "source": [
    "#Analysis of Trip Data for CitiBike in NYC and FordGoBike in San Francisco Bay Area for July 2018, what can we learn?\n",
    "\n",
    "Patty Boonlue  \n",
    "Thinkful Bootcamp Data Science Program  \n",
    "March 2018  "
   ]
  },
  {
   "cell_type": "markdown",
   "metadata": {},
   "source": [
    "## About the Data\n",
    "\n",
    "The two datasets examined in this capstone are of bike trips history in July 2018 for two different bike-sharing companies, CitiBike and FordGoBike, operating in New York City and San Francisco Bay Area, respectively. The CitiBike dataset were extracted from https://www.citibikenyc.com/system-data. While, the FordGoBike dataset were obtained from https://www.fordgobike.com/system-data. Both datasets contain trip duration (seconds), the start and end time/date, start and end stations, user type (subscriber vs. customer), user's year of birth, and gender. \n",
    "\n",
    "The datasets are worthwhile to observe as bike-sharing as become one of the most popular mode of transportation in urban cities as more bicycle infrastructures are put in place to make biking safer, especially in NYC and the San Francisco Bay Area. By analyzing who's riding the bike, especially where they are going, how long they are riding, and during what time, can greatly help not only the companies operating bike-sharing, but also gvoernment entities that are in charge of urban and transportation planning in each jurisdictions. Bike data can help cities be more aware "
   ]
  },
  {
   "cell_type": "markdown",
   "metadata": {},
   "source": [
    "## Hypotheses\n",
    "\n",
    "This capstone explores 3 hypotheses comparing and contrasting bike trips data for CitiBike (NYC) and FordGoBike (Bay Area). Additionally the capstone examines other useful information that can be extracted from the data set. The hypotheses are as followed: \n",
    "\n",
    "1. On average, bike trip duration is longer with CitiBike in NYC than FordGoBike in Bay Area. \n",
    "\n",
    "2. The percentage of users from each birth year (age distribution of users) is similar between NYC and Bay Area. \n",
    "\n",
    "3. The gender split for both cities is 50% male and 50% female.\n"
   ]
  },
  {
   "cell_type": "code",
   "execution_count": 2,
   "metadata": {},
   "outputs": [],
   "source": [
    "#First, import basic data science modules.\n",
    "import pandas as pd\n",
    "import numpy as np\n",
    "import matplotlib.pyplot as plt\n",
    "%matplotlib inline"
   ]
  },
  {
   "cell_type": "markdown",
   "metadata": {},
   "source": [
    "###Uploading .csv files into Jupyter Notebook"
   ]
  },
  {
   "cell_type": "code",
   "execution_count": 5,
   "metadata": {},
   "outputs": [
    {
     "name": "stdout",
     "output_type": "stream",
     "text": [
      "        duration_sec                start_time                  end_time  \\\n",
      "0              59989  2018-07-31 18:20:32.7230  2018-08-01 11:00:22.1890   \n",
      "1              60232  2018-07-31 17:24:26.2350  2018-08-01 10:08:18.7520   \n",
      "2              43864  2018-07-31 21:03:26.7030  2018-08-01 09:14:30.8340   \n",
      "3              51522  2018-07-31 18:54:23.7210  2018-08-01 09:13:06.6610   \n",
      "4              83380  2018-07-31 09:22:29.1000  2018-08-01 08:32:09.2700   \n",
      "5              49546  2018-07-31 18:44:11.5730  2018-08-01 08:29:57.8380   \n",
      "6              42799  2018-07-31 19:29:44.6490  2018-08-01 07:23:04.5270   \n",
      "7              50603  2018-07-31 17:19:23.9830  2018-08-01 07:22:47.6940   \n",
      "8              54830  2018-07-31 15:44:11.9250  2018-08-01 06:58:01.9580   \n",
      "9              22051  2018-07-31 22:19:19.4220  2018-08-01 04:26:51.1590   \n",
      "10             30404  2018-07-31 19:45:33.0670  2018-08-01 04:12:17.6830   \n",
      "11              1397  2018-07-31 23:54:51.0850  2018-08-01 00:18:08.4710   \n",
      "12              1238  2018-07-31 23:57:19.3020  2018-08-01 00:17:58.0420   \n",
      "13               903  2018-07-31 23:55:44.9850  2018-08-01 00:10:48.1540   \n",
      "14              5166  2018-07-31 22:42:28.5240  2018-08-01 00:08:35.3230   \n",
      "15              4905  2018-07-31 22:46:40.1840  2018-08-01 00:08:25.3020   \n",
      "16               561  2018-07-31 23:54:06.7360  2018-08-01 00:03:28.3650   \n",
      "17               512  2018-07-31 23:51:28.7610  2018-08-01 00:00:01.0180   \n",
      "18               429  2018-07-31 23:51:59.0470  2018-07-31 23:59:08.4070   \n",
      "19               227  2018-07-31 23:53:59.5770  2018-07-31 23:57:46.7880   \n",
      "20               225  2018-07-31 23:53:04.6500  2018-07-31 23:56:50.0540   \n",
      "21               621  2018-07-31 23:45:50.6200  2018-07-31 23:56:12.2800   \n",
      "22               193  2018-07-31 23:51:13.6320  2018-07-31 23:54:27.4310   \n",
      "23               862  2018-07-31 23:38:41.1990  2018-07-31 23:53:03.2930   \n",
      "24               375  2018-07-31 23:45:23.0990  2018-07-31 23:51:38.5910   \n",
      "25               646  2018-07-31 23:38:55.9850  2018-07-31 23:49:42.5260   \n",
      "26               417  2018-07-31 23:42:28.8620  2018-07-31 23:49:25.9170   \n",
      "27               413  2018-07-31 23:42:29.9140  2018-07-31 23:49:23.7260   \n",
      "28               553  2018-07-31 23:38:33.2130  2018-07-31 23:47:46.2310   \n",
      "29               316  2018-07-31 23:41:16.0540  2018-07-31 23:46:32.3790   \n",
      "...              ...                       ...                       ...   \n",
      "199192           896  2018-07-01 00:27:31.9690  2018-07-01 00:42:28.1630   \n",
      "199193           534  2018-07-01 00:33:24.6100  2018-07-01 00:42:19.5870   \n",
      "199194          1266  2018-07-01 00:19:20.0470  2018-07-01 00:40:26.2430   \n",
      "199195           785  2018-07-01 00:24:52.8710  2018-07-01 00:37:58.2190   \n",
      "199196           708  2018-07-01 00:26:07.5640  2018-07-01 00:37:56.5120   \n",
      "199197           323  2018-07-01 00:28:45.0850  2018-07-01 00:34:08.9660   \n",
      "199198           332  2018-07-01 00:28:14.8430  2018-07-01 00:33:47.1990   \n",
      "199199          1746  2018-07-01 00:03:13.1220  2018-07-01 00:32:19.6470   \n",
      "199200           146  2018-07-01 00:29:03.9260  2018-07-01 00:31:30.0570   \n",
      "199201           713  2018-07-01 00:19:29.7440  2018-07-01 00:31:23.4290   \n",
      "199202           306  2018-07-01 00:25:54.3620  2018-07-01 00:31:00.3860   \n",
      "199203           270  2018-07-01 00:26:25.1560  2018-07-01 00:30:55.5700   \n",
      "199204          1099  2018-07-01 00:11:52.9430  2018-07-01 00:30:12.4790   \n",
      "199205           542  2018-07-01 00:20:51.1510  2018-07-01 00:29:54.0920   \n",
      "199206           892  2018-07-01 00:09:55.6900  2018-07-01 00:24:47.8920   \n",
      "199207          1316  2018-07-01 00:01:44.0490  2018-07-01 00:23:41.0450   \n",
      "199208           670  2018-07-01 00:12:29.0590  2018-07-01 00:23:39.2560   \n",
      "199209           887  2018-07-01 00:06:05.3960  2018-07-01 00:20:53.0650   \n",
      "199210           647  2018-07-01 00:09:18.1900  2018-07-01 00:20:06.0600   \n",
      "199211           283  2018-07-01 00:10:57.0270  2018-07-01 00:15:40.8800   \n",
      "199212           341  2018-07-01 00:09:35.6540  2018-07-01 00:15:17.0180   \n",
      "199213           202  2018-07-01 00:11:10.8430  2018-07-01 00:14:32.9660   \n",
      "199214           592  2018-07-01 00:04:22.9390  2018-07-01 00:14:15.1200   \n",
      "199215           508  2018-07-01 00:04:34.1800  2018-07-01 00:13:02.3010   \n",
      "199216           165  2018-07-01 00:08:12.8840  2018-07-01 00:10:58.5430   \n",
      "199217           130  2018-07-01 00:07:39.5680  2018-07-01 00:09:49.9220   \n",
      "199218           445  2018-07-01 00:02:16.5890  2018-07-01 00:09:42.0840   \n",
      "199219           490  2018-07-01 00:00:41.6330  2018-07-01 00:08:51.6770   \n",
      "199220           219  2018-07-01 00:04:32.9560  2018-07-01 00:08:12.3040   \n",
      "199221           368  2018-07-01 00:01:22.9220  2018-07-01 00:07:31.8290   \n",
      "\n",
      "        start_station_id                                 start_station_name  \\\n",
      "0                  197.0                        El Embarcadero at Grand Ave   \n",
      "1                   77.0                               11th St at Natoma St   \n",
      "2                    0.0                                                  0   \n",
      "3                  114.0                         Rhode Island St at 17th St   \n",
      "4                  213.0                              32nd St at Adeline St   \n",
      "5                  139.0           Garfield Square (25th St at Harrison St)   \n",
      "6                  337.0                              Webster St at 19th St   \n",
      "7                   19.0                               Post St at Kearny St   \n",
      "8                  247.0                          Fulton St at Bancroft Way   \n",
      "9                   13.0                     Commercial St at Montgomery St   \n",
      "10                  20.0    Mechanics Monument Plaza (Market St at Bush St)   \n",
      "11                   0.0                                                  0   \n",
      "12                  74.0                              Laguna St at Hayes St   \n",
      "13                 180.0                           Telegraph Ave at 23rd St   \n",
      "14                 186.0                             Lakeside Dr at 14th St   \n",
      "15                 186.0                             Lakeside Dr at 14th St   \n",
      "16                  17.0   Embarcadero BART Station (Beale St at Market St)   \n",
      "17                  28.0                       The Embarcadero at Bryant St   \n",
      "18                  34.0                     Father Alfred E Boeddeker Park   \n",
      "19                 182.0                           19th Street BART Station   \n",
      "20                 245.0                             Downtown Berkeley BART   \n",
      "21                  43.0  San Francisco Public Library (Grove St at Hyde...   \n",
      "22                 104.0                                  4th St at 16th St   \n",
      "23                   0.0                                                  0   \n",
      "24                 110.0   17th & Folsom Street Park (17th St at Folsom St)   \n",
      "25                 101.0                           San Bruno Ave at 16th St   \n",
      "26                  21.0   Montgomery St BART Station (Market St at 2nd St)   \n",
      "27                  21.0   Montgomery St BART Station (Market St at 2nd St)   \n",
      "28                 235.0                                Union St at 10th St   \n",
      "29                 148.0                               Horton St at 40th St   \n",
      "...                  ...                                                ...   \n",
      "199192              73.0                             Pierce St at Haight St   \n",
      "199193              61.0                                Howard St at 8th St   \n",
      "199194             251.0                    California St at University Ave   \n",
      "199195             308.0                                   San Pedro Square   \n",
      "199196              20.0    Mechanics Monument Plaza (Market St at Bush St)   \n",
      "199197              98.0                             Valencia St at 16th St   \n",
      "199198             258.0                        University Ave at Oxford St   \n",
      "199199               6.0                      The Embarcadero at Sansome St   \n",
      "199200             307.0                                         SAP Center   \n",
      "199201             291.0                      Autumn Parkway at Coleman Ave   \n",
      "199202             291.0                      Autumn Parkway at Coleman Ave   \n",
      "199203             291.0                      Autumn Parkway at Coleman Ave   \n",
      "199204             189.0                                Genoa St at 55th St   \n",
      "199205             266.0                             Parker St at Fulton St   \n",
      "199206             324.0                Union Square (Powell St at Post St)   \n",
      "199207              37.0                                2nd St at Folsom St   \n",
      "199208             179.0                           Telegraph Ave at 27th St   \n",
      "199209             259.0                            Addison St at Fourth St   \n",
      "199210             240.0                          Haste St at Telegraph Ave   \n",
      "199211              98.0                             Valencia St at 16th St   \n",
      "199212             278.0                             The Alameda at Bush St   \n",
      "199213             181.0                            Grand Ave at Webster St   \n",
      "199214             203.0                               Webster St at 2nd St   \n",
      "199215             343.0                                Bryant St at 2nd St   \n",
      "199216             278.0                             The Alameda at Bush St   \n",
      "199217             253.0                            Haste St at College Ave   \n",
      "199218             179.0                           Telegraph Ave at 27th St   \n",
      "199219             307.0                                         SAP Center   \n",
      "199220              70.0                             Central Ave at Fell St   \n",
      "199221               4.0                        Cyril Magnin St at Ellis St   \n",
      "\n",
      "        start_station_latitude  start_station_longitude  end_station_id  \\\n",
      "0                    37.808848              -122.249680           181.0   \n",
      "1                    37.773507              -122.416040           356.0   \n",
      "2                    37.410000              -121.940000             0.0   \n",
      "3                    37.764478              -122.402570           345.0   \n",
      "4                    37.823847              -122.281193           198.0   \n",
      "5                    37.751017              -122.411901           356.0   \n",
      "6                    37.806970              -122.266588           196.0   \n",
      "7                    37.788975              -122.403452            16.0   \n",
      "8                    37.867789              -122.265896           266.0   \n",
      "9                    37.794231              -122.402923            16.0   \n",
      "10                   37.791300              -122.399051            43.0   \n",
      "11                   37.410000              -121.940000             0.0   \n",
      "12                   37.776435              -122.426244           144.0   \n",
      "13                   37.812678              -122.268773           213.0   \n",
      "14                   37.801319              -122.262642           186.0   \n",
      "15                   37.801319              -122.262642           186.0   \n",
      "16                   37.792251              -122.397086            62.0   \n",
      "17                   37.787168              -122.388098            25.0   \n",
      "18                   37.783988              -122.412408            36.0   \n",
      "19                   37.809013              -122.268247           195.0   \n",
      "20                   37.870348              -122.267764           244.0   \n",
      "21                   37.778768              -122.415929            31.0   \n",
      "22                   37.767045              -122.390833           126.0   \n",
      "23                   37.400000              -121.940000             0.0   \n",
      "24                   37.763708              -122.415204            62.0   \n",
      "25                   37.766008              -122.405677            43.0   \n",
      "26                   37.789625              -122.400811            28.0   \n",
      "27                   37.789625              -122.400811            28.0   \n",
      "28                   37.807239              -122.289370           213.0   \n",
      "29                   37.829705              -122.287610           150.0   \n",
      "...                        ...                      ...             ...   \n",
      "199192               37.771793              -122.433708           345.0   \n",
      "199193               37.776513              -122.411306            25.0   \n",
      "199194               37.870555              -122.279720           177.0   \n",
      "199195               37.336802              -121.894090           305.0   \n",
      "199196               37.791300              -122.399051            62.0   \n",
      "199197               37.765052              -122.421866            95.0   \n",
      "199198               37.872355              -122.266447           256.0   \n",
      "199199               37.804770              -122.403234            74.0   \n",
      "199200               37.332692              -121.900084           314.0   \n",
      "199201               37.341335              -121.903183           208.0   \n",
      "199202               37.341335              -121.903183           305.0   \n",
      "199203               37.341335              -121.903183           305.0   \n",
      "199204               37.839649              -122.271756           211.0   \n",
      "199205               37.862464              -122.264791           266.0   \n",
      "199206               37.788300              -122.408531             4.0   \n",
      "199207               37.785000              -122.395936           324.0   \n",
      "199208               37.816073              -122.267886           218.0   \n",
      "199209               37.866249              -122.299371           251.0   \n",
      "199210               37.866043              -122.258804           271.0   \n",
      "199211               37.765052              -122.421866            60.0   \n",
      "199212               37.331932              -121.904888           314.0   \n",
      "199213               37.811377              -122.265192           196.0   \n",
      "199214               37.795195              -122.273970           183.0   \n",
      "199215               37.783172              -122.393572            92.0   \n",
      "199216               37.331932              -121.904888           276.0   \n",
      "199217               37.866418              -122.253799           267.0   \n",
      "199218               37.816073              -122.267886           214.0   \n",
      "199219               37.332692              -121.900084           208.0   \n",
      "199220               37.773311              -122.444293            52.0   \n",
      "199221               37.785881              -122.408915            61.0   \n",
      "\n",
      "                                         end_station_name  \\\n",
      "0                                 Grand Ave at Webster St   \n",
      "1                             Valencia St at Clinton Park   \n",
      "2                                                       0   \n",
      "3                                   Hubbell St at 16th St   \n",
      "4                                               Snow Park   \n",
      "5                             Valencia St at Clinton Park   \n",
      "6                                 Grand Ave at Perkins St   \n",
      "7                                 Steuart St at Market St   \n",
      "8                                  Parker St at Fulton St   \n",
      "9                                 Steuart St at Market St   \n",
      "10      San Francisco Public Library (Grove St at Hyde...   \n",
      "11                                                      0   \n",
      "12                                           Precita Park   \n",
      "13                                  32nd St at Adeline St   \n",
      "14                                 Lakeside Dr at 14th St   \n",
      "15                                 Lakeside Dr at 14th St   \n",
      "16                            Victoria Manalo Draves Park   \n",
      "17                                    Howard St at 2nd St   \n",
      "18                                    Folsom St at 3rd St   \n",
      "19                                    Bay Pl at Vernon St   \n",
      "20                             Shattuck Ave at Hearst Ave   \n",
      "21                             Raymond Kimbell Playground   \n",
      "22                                            Esprit Park   \n",
      "23                                                      0   \n",
      "24                            Victoria Manalo Draves Park   \n",
      "25      San Francisco Public Library (Grove St at Hyde...   \n",
      "26                           The Embarcadero at Bryant St   \n",
      "27                           The Embarcadero at Bryant St   \n",
      "28                                  32nd St at Adeline St   \n",
      "29                                  Adeline St at 40th St   \n",
      "...                                                   ...   \n",
      "199192                              Hubbell St at 16th St   \n",
      "199193                                Howard St at 2nd St   \n",
      "199194                    MacArthur Blvd at Telegraph Ave   \n",
      "199195                                        Ryland Park   \n",
      "199196                        Victoria Manalo Draves Park   \n",
      "199197                              Sanchez St at 15th St   \n",
      "199198                           Hearst Ave at Euclid Ave   \n",
      "199199                              Laguna St at Hayes St   \n",
      "199200                     Santa Clara St at Almaden Blvd   \n",
      "199201                         S. 4th St at San Carlos St   \n",
      "199202                                        Ryland Park   \n",
      "199203                                        Ryland Park   \n",
      "199204                                Broadway at 40th St   \n",
      "199205                             Parker St at Fulton St   \n",
      "199206                        Cyril Magnin St at Ellis St   \n",
      "199207                Union Square (Powell St at Post St)   \n",
      "199208                                     DeFremery Park   \n",
      "199209                    California St at University Ave   \n",
      "199210                                     San Pablo Park   \n",
      "199211                               8th St at Ringold St   \n",
      "199212                     Santa Clara St at Almaden Blvd   \n",
      "199213                            Grand Ave at Perkins St   \n",
      "199214                           Telegraph Ave at 19th St   \n",
      "199215                              Mission Bay Kids Park   \n",
      "199216                           Julian St at The Alameda   \n",
      "199217                            Derby St at College Ave   \n",
      "199218                         Market St at Brockhurst St   \n",
      "199219                         S. 4th St at San Carlos St   \n",
      "199220                          McAllister St at Baker St   \n",
      "199221                                Howard St at 8th St   \n",
      "\n",
      "        end_station_latitude  end_station_longitude  bike_id   user_type  \\\n",
      "0                  37.811377            -122.265192     1953    Customer   \n",
      "1                  37.769188            -122.422285     3010  Subscriber   \n",
      "2                  37.410000            -121.940000     4273  Subscriber   \n",
      "3                  37.766474            -122.398295     1043  Subscriber   \n",
      "4                  37.807813            -122.264496     1336  Subscriber   \n",
      "5                  37.769188            -122.422285      697    Customer   \n",
      "6                  37.808894            -122.256460      605  Subscriber   \n",
      "7                  37.794130            -122.394430      800  Subscriber   \n",
      "8                  37.862464            -122.264791     2432  Subscriber   \n",
      "9                  37.794130            -122.394430     3839  Subscriber   \n",
      "10                 37.778768            -122.415929     3492    Customer   \n",
      "11                 37.390000            -121.950000     4128  Subscriber   \n",
      "12                 37.747300            -122.411403     2407  Subscriber   \n",
      "13                 37.823847            -122.281193     3489    Customer   \n",
      "14                 37.801319            -122.262642     3543    Customer   \n",
      "15                 37.801319            -122.262642     3314    Customer   \n",
      "16                 37.777791            -122.406432     3364  Subscriber   \n",
      "17                 37.787522            -122.397405     1058    Customer   \n",
      "18                 37.783830            -122.398870     2036  Subscriber   \n",
      "19                 37.812314            -122.260779      867  Subscriber   \n",
      "20                 37.873792            -122.268618     2013  Subscriber   \n",
      "21                 37.783813            -122.434559      148  Subscriber   \n",
      "22                 37.761634            -122.390648      331  Subscriber   \n",
      "23                 37.390000            -121.960000     4277  Subscriber   \n",
      "24                 37.777791            -122.406432     1176  Subscriber   \n",
      "25                 37.778768            -122.415929     3133  Subscriber   \n",
      "26                 37.787168            -122.388098     2697  Subscriber   \n",
      "27                 37.787168            -122.388098     2978  Subscriber   \n",
      "28                 37.823847            -122.281193     3471  Subscriber   \n",
      "29                 37.831277            -122.278267      110  Subscriber   \n",
      "...                      ...                    ...      ...         ...   \n",
      "199192             37.766474            -122.398295     4009  Subscriber   \n",
      "199193             37.787522            -122.397405     3787  Subscriber   \n",
      "199194             37.826286            -122.265100     1098    Customer   \n",
      "199195             37.342725            -121.895617       48  Subscriber   \n",
      "199196             37.777791            -122.406432     1079  Subscriber   \n",
      "199197             37.766219            -122.431060     1088  Subscriber   \n",
      "199198             37.875112            -122.260553      847  Subscriber   \n",
      "199199             37.776435            -122.426244      709    Customer   \n",
      "199200             37.333988            -121.894902     1655  Subscriber   \n",
      "199201             37.330040            -121.881821     2137  Subscriber   \n",
      "199202             37.342725            -121.895617     2597  Subscriber   \n",
      "199203             37.342725            -121.895617      685  Subscriber   \n",
      "199204             37.827757            -122.256716     1097  Subscriber   \n",
      "199205             37.862464            -122.264791     2802  Subscriber   \n",
      "199206             37.785881            -122.408915     2600  Subscriber   \n",
      "199207             37.788300            -122.408531     3946  Subscriber   \n",
      "199208             37.812331            -122.285171     2745    Customer   \n",
      "199209             37.870555            -122.279720     3266  Subscriber   \n",
      "199210             37.855783            -122.283127      265  Subscriber   \n",
      "199211             37.774520            -122.409449     3859  Subscriber   \n",
      "199212             37.333988            -121.894902     2250  Subscriber   \n",
      "199213             37.808894            -122.256460     1818  Subscriber   \n",
      "199214             37.808702            -122.269927     2974  Subscriber   \n",
      "199215             37.772301            -122.393028     2938  Subscriber   \n",
      "199216             37.332233            -121.912517     1191  Subscriber   \n",
      "199217             37.861804            -122.253569     1874  Subscriber   \n",
      "199218             37.823321            -122.275732     3134  Subscriber   \n",
      "199219             37.330040            -121.881821     2700  Subscriber   \n",
      "199220             37.777416            -122.441838     3848    Customer   \n",
      "199221             37.776513            -122.411306     3787  Subscriber   \n",
      "\n",
      "        member_birth_year member_gender bike_share_for_all_trip  \n",
      "0                  1995.0          Male                      No  \n",
      "1                  1994.0        Female                      No  \n",
      "2                  1998.0          Male                      No  \n",
      "3                  1990.0        Female                      No  \n",
      "4                  1982.0          Male                      No  \n",
      "5                  1991.0        Female                      No  \n",
      "6                  1976.0        Female                      No  \n",
      "7                  1972.0          Male                      No  \n",
      "8                  1997.0          Male                      No  \n",
      "9                  1978.0          Male                      No  \n",
      "10                 1999.0          Male                      No  \n",
      "11                 1982.0        Female                      No  \n",
      "12                 1975.0          Male                     Yes  \n",
      "13                 1981.0          Male                      No  \n",
      "14                 1996.0          Male                      No  \n",
      "15                 1983.0          Male                      No  \n",
      "16                 1997.0          Male                      No  \n",
      "17                 1969.0          Male                      No  \n",
      "18                    0.0             0                      No  \n",
      "19                 1971.0          Male                      No  \n",
      "20                 1986.0          Male                      No  \n",
      "21                 1987.0        Female                      No  \n",
      "22                 1963.0          Male                      No  \n",
      "23                 1986.0          Male                      No  \n",
      "24                 1984.0          Male                      No  \n",
      "25                 1980.0          Male                     Yes  \n",
      "26                 1987.0        Female                      No  \n",
      "27                 1985.0          Male                      No  \n",
      "28                 1986.0          Male                      No  \n",
      "29                 1993.0          Male                      No  \n",
      "...                   ...           ...                     ...  \n",
      "199192             1985.0          Male                      No  \n",
      "199193             1968.0          Male                      No  \n",
      "199194             1986.0          Male                      No  \n",
      "199195             1991.0          Male                     Yes  \n",
      "199196             1991.0          Male                      No  \n",
      "199197             1976.0          Male                      No  \n",
      "199198             1995.0          Male                      No  \n",
      "199199             1998.0          Male                      No  \n",
      "199200             1998.0          Male                     Yes  \n",
      "199201             1997.0          Male                      No  \n",
      "199202             1993.0          Male                     Yes  \n",
      "199203             1993.0          Male                     Yes  \n",
      "199204             1970.0          Male                      No  \n",
      "199205             1999.0          Male                      No  \n",
      "199206             1996.0          Male                      No  \n",
      "199207             1994.0          Male                      No  \n",
      "199208             1993.0        Female                      No  \n",
      "199209             1992.0          Male                      No  \n",
      "199210             1997.0          Male                      No  \n",
      "199211             1980.0          Male                      No  \n",
      "199212             1994.0          Male                     Yes  \n",
      "199213             1966.0          Male                     Yes  \n",
      "199214             1963.0        Female                      No  \n",
      "199215             1993.0          Male                      No  \n",
      "199216             1992.0          Male                     Yes  \n",
      "199217             1997.0        Female                      No  \n",
      "199218             1992.0         Other                      No  \n",
      "199219             1997.0        Female                      No  \n",
      "199220             1979.0          Male                      No  \n",
      "199221             1977.0          Male                      No  \n",
      "\n",
      "[199222 rows x 16 columns]\n"
     ]
    }
   ],
   "source": [
    "#Upload FordGoBike data set from the .csv file and replace NAN values with 0\n",
    "df_ford=pd.read_csv('201807-fordgobike-tripdata.csv')\n",
    "df_ford=df_ford.fillna(0)\n",
    "\n",
    "print(df_ford)"
   ]
  },
  {
   "cell_type": "code",
   "execution_count": 4,
   "metadata": {},
   "outputs": [
    {
     "name": "stdout",
     "output_type": "stream",
     "text": [
      "         tripduration                 starttime                  stoptime  \\\n",
      "0                 500  2018-07-01 00:33:51.2640  2018-07-01 00:42:12.0280   \n",
      "1                 455  2018-07-01 02:06:54.0270  2018-07-01 02:14:29.0900   \n",
      "2                1080  2018-07-01 02:09:16.4640  2018-07-01 02:27:17.0290   \n",
      "3                 632  2018-07-01 02:55:04.5870  2018-07-01 03:05:36.7910   \n",
      "4                1676  2018-07-01 03:24:27.4350  2018-07-01 03:52:23.7760   \n",
      "5                1708  2018-07-01 05:26:07.0370  2018-07-01 05:54:35.5530   \n",
      "6                1582  2018-07-01 07:42:58.0020  2018-07-01 08:09:20.2790   \n",
      "7                2145  2018-07-01 07:51:58.5010  2018-07-01 08:27:44.1750   \n",
      "8                1248  2018-07-01 08:12:48.0820  2018-07-01 08:33:36.4490   \n",
      "9                1578  2018-07-01 08:21:26.6440  2018-07-01 08:47:45.5960   \n",
      "10               1545  2018-07-01 08:21:47.6610  2018-07-01 08:47:33.6590   \n",
      "11                265  2018-07-01 08:50:53.1140  2018-07-01 08:55:18.8500   \n",
      "12               1340  2018-07-01 09:10:57.7390  2018-07-01 09:33:18.6620   \n",
      "13               1116  2018-07-01 09:19:39.1940  2018-07-01 09:38:16.0400   \n",
      "14                294  2018-07-01 09:36:01.0760  2018-07-01 09:40:55.2160   \n",
      "15                964  2018-07-01 09:51:02.3790  2018-07-01 10:07:06.5430   \n",
      "16                627  2018-07-01 09:53:27.4490  2018-07-01 10:03:55.0450   \n",
      "17               1142  2018-07-01 10:09:28.1010  2018-07-01 10:28:30.1020   \n",
      "18                165  2018-07-01 10:13:22.0660  2018-07-01 10:16:07.9620   \n",
      "19                279  2018-07-01 10:14:46.0150  2018-07-01 10:19:25.9760   \n",
      "20               1569  2018-07-01 10:26:29.5100  2018-07-01 10:52:39.3830   \n",
      "21               1496  2018-07-01 11:10:06.0080  2018-07-01 11:35:02.7110   \n",
      "22                839  2018-07-01 12:15:46.9080  2018-07-01 12:29:46.6620   \n",
      "23                795  2018-07-01 12:16:24.0390  2018-07-01 12:29:39.8150   \n",
      "24               1202  2018-07-01 12:23:41.5180  2018-07-01 12:43:44.1530   \n",
      "25               1130  2018-07-01 12:31:47.0730  2018-07-01 12:50:37.4620   \n",
      "26               1324  2018-07-01 12:34:18.9250  2018-07-01 12:56:23.8480   \n",
      "27                636  2018-07-01 12:42:10.4960  2018-07-01 12:52:47.1930   \n",
      "28               1392  2018-07-01 12:50:12.5200  2018-07-01 13:13:25.0120   \n",
      "29                855  2018-07-01 12:53:40.9530  2018-07-01 13:07:56.8800   \n",
      "...               ...                       ...                       ...   \n",
      "1913595           340  2018-07-31 18:15:24.2320  2018-07-31 18:21:04.7920   \n",
      "1913596          1166  2018-07-31 18:19:44.7620  2018-07-31 18:39:11.0950   \n",
      "1913597           935  2018-07-31 18:23:59.6620  2018-07-31 18:39:35.2550   \n",
      "1913598          1221  2018-07-31 18:28:46.6610  2018-07-31 18:49:08.3540   \n",
      "1913599           750  2018-07-31 18:34:50.9880  2018-07-31 18:47:21.5540   \n",
      "1913600           988  2018-07-31 18:36:48.6810  2018-07-31 18:53:16.8450   \n",
      "1913601           879  2018-07-31 18:44:14.1550  2018-07-31 18:58:53.3910   \n",
      "1913602          1165  2018-07-31 18:52:37.2850  2018-07-31 19:12:03.0740   \n",
      "1913603           406  2018-07-31 19:03:55.4300  2018-07-31 19:10:42.1110   \n",
      "1913604          1198  2018-07-31 19:04:55.0730  2018-07-31 19:24:53.1760   \n",
      "1913605          1408  2018-07-31 19:17:40.8620  2018-07-31 19:41:08.9540   \n",
      "1913606           691  2018-07-31 19:40:11.0800  2018-07-31 19:51:42.6810   \n",
      "1913607           122  2018-07-31 19:42:59.3160  2018-07-31 19:45:01.3330   \n",
      "1913608          3653  2018-07-31 19:43:10.3430  2018-07-31 20:44:03.3910   \n",
      "1913609          3633  2018-07-31 19:43:21.8440  2018-07-31 20:43:55.1870   \n",
      "1913610           431  2018-07-31 19:45:51.5770  2018-07-31 19:53:02.9090   \n",
      "1913611          2759  2018-07-31 19:46:58.9800  2018-07-31 20:32:58.9700   \n",
      "1913612           288  2018-07-31 19:53:29.0970  2018-07-31 19:58:17.1870   \n",
      "1913613          1518  2018-07-31 19:57:35.9170  2018-07-31 20:22:54.1030   \n",
      "1913614          1688  2018-07-31 20:39:45.2830  2018-07-31 21:07:53.3760   \n",
      "1913615           504  2018-07-31 20:50:29.6110  2018-07-31 20:58:54.3800   \n",
      "1913616           443  2018-07-31 20:54:51.8370  2018-07-31 21:02:15.2090   \n",
      "1913617           396  2018-07-31 20:57:47.0980  2018-07-31 21:04:23.1750   \n",
      "1913618           341  2018-07-31 20:59:08.9610  2018-07-31 21:04:50.6230   \n",
      "1913619           660  2018-07-31 21:00:55.6230  2018-07-31 21:11:55.7700   \n",
      "1913620           232  2018-07-31 21:15:17.6940  2018-07-31 21:19:09.9290   \n",
      "1913621           321  2018-07-31 22:12:23.6970  2018-07-31 22:17:45.1930   \n",
      "1913622          2424  2018-07-31 22:51:01.9640  2018-07-31 23:31:26.0500   \n",
      "1913623           537  2018-07-31 23:11:19.1700  2018-07-31 23:20:16.7540   \n",
      "1913624           211  2018-07-31 23:18:55.2800  2018-07-31 23:22:26.4070   \n",
      "\n",
      "         start station id                start station name  \\\n",
      "0                      72                  W 52 St & 11 Ave   \n",
      "1                      72                  W 52 St & 11 Ave   \n",
      "2                      72                  W 52 St & 11 Ave   \n",
      "3                      72                  W 52 St & 11 Ave   \n",
      "4                      72                  W 52 St & 11 Ave   \n",
      "5                      72                  W 52 St & 11 Ave   \n",
      "6                      72                  W 52 St & 11 Ave   \n",
      "7                      72                  W 52 St & 11 Ave   \n",
      "8                      72                  W 52 St & 11 Ave   \n",
      "9                      72                  W 52 St & 11 Ave   \n",
      "10                     72                  W 52 St & 11 Ave   \n",
      "11                     72                  W 52 St & 11 Ave   \n",
      "12                     72                  W 52 St & 11 Ave   \n",
      "13                     72                  W 52 St & 11 Ave   \n",
      "14                     72                  W 52 St & 11 Ave   \n",
      "15                     72                  W 52 St & 11 Ave   \n",
      "16                     72                  W 52 St & 11 Ave   \n",
      "17                     72                  W 52 St & 11 Ave   \n",
      "18                     72                  W 52 St & 11 Ave   \n",
      "19                     72                  W 52 St & 11 Ave   \n",
      "20                     72                  W 52 St & 11 Ave   \n",
      "21                     72                  W 52 St & 11 Ave   \n",
      "22                     72                  W 52 St & 11 Ave   \n",
      "23                     72                  W 52 St & 11 Ave   \n",
      "24                     72                  W 52 St & 11 Ave   \n",
      "25                     72                  W 52 St & 11 Ave   \n",
      "26                     72                  W 52 St & 11 Ave   \n",
      "27                     72                  W 52 St & 11 Ave   \n",
      "28                     72                  W 52 St & 11 Ave   \n",
      "29                     72                  W 52 St & 11 Ave   \n",
      "...                   ...                               ...   \n",
      "1913595              3697  W 64 St & Thelonious Monk Circle   \n",
      "1913596              3697  W 64 St & Thelonious Monk Circle   \n",
      "1913597              3697  W 64 St & Thelonious Monk Circle   \n",
      "1913598              3697  W 64 St & Thelonious Monk Circle   \n",
      "1913599              3697  W 64 St & Thelonious Monk Circle   \n",
      "1913600              3697  W 64 St & Thelonious Monk Circle   \n",
      "1913601              3697  W 64 St & Thelonious Monk Circle   \n",
      "1913602              3697  W 64 St & Thelonious Monk Circle   \n",
      "1913603              3697  W 64 St & Thelonious Monk Circle   \n",
      "1913604              3697  W 64 St & Thelonious Monk Circle   \n",
      "1913605              3697  W 64 St & Thelonious Monk Circle   \n",
      "1913606              3697  W 64 St & Thelonious Monk Circle   \n",
      "1913607              3697  W 64 St & Thelonious Monk Circle   \n",
      "1913608              3697  W 64 St & Thelonious Monk Circle   \n",
      "1913609              3697  W 64 St & Thelonious Monk Circle   \n",
      "1913610              3697  W 64 St & Thelonious Monk Circle   \n",
      "1913611              3697  W 64 St & Thelonious Monk Circle   \n",
      "1913612              3697  W 64 St & Thelonious Monk Circle   \n",
      "1913613              3697  W 64 St & Thelonious Monk Circle   \n",
      "1913614              3697  W 64 St & Thelonious Monk Circle   \n",
      "1913615              3697  W 64 St & Thelonious Monk Circle   \n",
      "1913616              3697  W 64 St & Thelonious Monk Circle   \n",
      "1913617              3697  W 64 St & Thelonious Monk Circle   \n",
      "1913618              3697  W 64 St & Thelonious Monk Circle   \n",
      "1913619              3697  W 64 St & Thelonious Monk Circle   \n",
      "1913620              3697  W 64 St & Thelonious Monk Circle   \n",
      "1913621              3697  W 64 St & Thelonious Monk Circle   \n",
      "1913622              3697  W 64 St & Thelonious Monk Circle   \n",
      "1913623              3697  W 64 St & Thelonious Monk Circle   \n",
      "1913624              3697  W 64 St & Thelonious Monk Circle   \n",
      "\n",
      "         start station latitude  start station longitude  end station id  \\\n",
      "0                     40.767272               -73.993929            3236   \n",
      "1                     40.767272               -73.993929             529   \n",
      "2                     40.767272               -73.993929             453   \n",
      "3                     40.767272               -73.993929             465   \n",
      "4                     40.767272               -73.993929            3425   \n",
      "5                     40.767272               -73.993929             259   \n",
      "6                     40.767272               -73.993929             426   \n",
      "7                     40.767272               -73.993929              72   \n",
      "8                     40.767272               -73.993929            3159   \n",
      "9                     40.767272               -73.993929            3256   \n",
      "10                    40.767272               -73.993929            3256   \n",
      "11                    40.767272               -73.993929             450   \n",
      "12                    40.767272               -73.993929             328   \n",
      "13                    40.767272               -73.993929             405   \n",
      "14                    40.767272               -73.993929             478   \n",
      "15                    40.767272               -73.993929             405   \n",
      "16                    40.767272               -73.993929             459   \n",
      "17                    40.767272               -73.993929             492   \n",
      "18                    40.767272               -73.993929             513   \n",
      "19                    40.767272               -73.993929             447   \n",
      "20                    40.767272               -73.993929            3327   \n",
      "21                    40.767272               -73.993929             426   \n",
      "22                    40.767272               -73.993929            3173   \n",
      "23                    40.767272               -73.993929            3173   \n",
      "24                    40.767272               -73.993929             480   \n",
      "25                    40.767272               -73.993929            3641   \n",
      "26                    40.767272               -73.993929             479   \n",
      "27                    40.767272               -73.993929             458   \n",
      "28                    40.767272               -73.993929             335   \n",
      "29                    40.767272               -73.993929             441   \n",
      "...                         ...                      ...             ...   \n",
      "1913595               40.775160               -73.989187             499   \n",
      "1913596               40.775160               -73.989187             525   \n",
      "1913597               40.775160               -73.989187            3697   \n",
      "1913598               40.775160               -73.989187            3331   \n",
      "1913599               40.775160               -73.989187             173   \n",
      "1913600               40.775160               -73.989187            2006   \n",
      "1913601               40.775160               -73.989187             529   \n",
      "1913602               40.775160               -73.989187            3146   \n",
      "1913603               40.775160               -73.989187            3167   \n",
      "1913604               40.775160               -73.989187             442   \n",
      "1913605               40.775160               -73.989187            3147   \n",
      "1913606               40.775160               -73.989187            3697   \n",
      "1913607               40.775160               -73.989187             530   \n",
      "1913608               40.775160               -73.989187             490   \n",
      "1913609               40.775160               -73.989187             490   \n",
      "1913610               40.775160               -73.989187            3166   \n",
      "1913611               40.775160               -73.989187             306   \n",
      "1913612               40.775160               -73.989187             513   \n",
      "1913613               40.775160               -73.989187            3547   \n",
      "1913614               40.775160               -73.989187             426   \n",
      "1913615               40.775160               -73.989187             447   \n",
      "1913616               40.775160               -73.989187             499   \n",
      "1913617               40.775160               -73.989187             422   \n",
      "1913618               40.775160               -73.989187            3158   \n",
      "1913619               40.775160               -73.989187             457   \n",
      "1913620               40.775160               -73.989187            3158   \n",
      "1913621               40.775160               -73.989187             499   \n",
      "1913622               40.775160               -73.989187            3697   \n",
      "1913623               40.775160               -73.989187            3434   \n",
      "1913624               40.775160               -73.989187            3175   \n",
      "\n",
      "                         end station name  end station latitude  \\\n",
      "0                      W 42 St & Dyer Ave             40.758985   \n",
      "1                         W 42 St & 8 Ave             40.757570   \n",
      "2                         W 22 St & 8 Ave             40.744751   \n",
      "3                      Broadway & W 41 St             40.755136   \n",
      "4                        2 Ave & E 104 St             40.789210   \n",
      "5                 South St & Whitehall St             40.701221   \n",
      "6                   West St & Chambers St             40.717548   \n",
      "7                        W 52 St & 11 Ave             40.767272   \n",
      "8                      W 67 St & Broadway             40.774925   \n",
      "9             Pier 40 - Hudson River Park             40.727714   \n",
      "10            Pier 40 - Hudson River Park             40.727714   \n",
      "11                        W 49 St & 8 Ave             40.762272   \n",
      "12                Watts St & Greenwich St             40.724055   \n",
      "13          Washington St & Gansevoort St             40.739323   \n",
      "14                       11 Ave & W 41 St             40.760301   \n",
      "15          Washington St & Gansevoort St             40.739323   \n",
      "16                       W 20 St & 11 Ave             40.746745   \n",
      "17                        W 33 St & 7 Ave             40.750200   \n",
      "18                       W 56 St & 10 Ave             40.768254   \n",
      "19                        8 Ave & W 52 St             40.763707   \n",
      "20                       3 Ave & E 100 St             40.787721   \n",
      "21                  West St & Chambers St             40.717548   \n",
      "22               Riverside Blvd & W 67 St             40.777507   \n",
      "23               Riverside Blvd & W 67 St             40.777507   \n",
      "24                       W 53 St & 10 Ave             40.766697   \n",
      "25                     Broadway & W 25 St             40.742869   \n",
      "26                        9 Ave & W 45 St             40.760193   \n",
      "27                       11 Ave & W 27 St             40.751396   \n",
      "28               Washington Pl & Broadway             40.729039   \n",
      "29                        E 52 St & 2 Ave             40.756014   \n",
      "...                                   ...                   ...   \n",
      "1913595                Broadway & W 60 St             40.769155   \n",
      "1913596                  W 34 St & 11 Ave             40.755942   \n",
      "1913597  W 64 St & Thelonious Monk Circle             40.775160   \n",
      "1913598           Riverside Dr & W 104 St             40.801343   \n",
      "1913599                Broadway & W 49 St             40.760683   \n",
      "1913600            Central Park S & 6 Ave             40.765909   \n",
      "1913601                   W 42 St & 8 Ave             40.757570   \n",
      "1913602                   E 81 St & 3 Ave             40.775730   \n",
      "1913603           Amsterdam Ave & W 73 St             40.779668   \n",
      "1913604                   W 27 St & 7 Ave             40.746647   \n",
      "1913605                   E 85 St & 3 Ave             40.778012   \n",
      "1913606  W 64 St & Thelonious Monk Circle             40.775160   \n",
      "1913607                  11 Ave & W 59 St             40.771522   \n",
      "1913608                   8 Ave & W 33 St             40.751551   \n",
      "1913609                   8 Ave & W 33 St             40.751551   \n",
      "1913610            Riverside Dr & W 72 St             40.780578   \n",
      "1913611            Cliff St & Fulton St_1             40.708235   \n",
      "1913612                  W 56 St & 10 Ave             40.768254   \n",
      "1913613              Broadway & Moylan Pl             40.814326   \n",
      "1913614             West St & Chambers St             40.717548   \n",
      "1913615                   8 Ave & W 52 St             40.763707   \n",
      "1913616                Broadway & W 60 St             40.769155   \n",
      "1913617                  W 59 St & 10 Ave             40.770513   \n",
      "1913618                W 63 St & Broadway             40.771639   \n",
      "1913619                Broadway & W 58 St             40.766953   \n",
      "1913620                W 63 St & Broadway             40.771639   \n",
      "1913621                Broadway & W 60 St             40.769155   \n",
      "1913622  W 64 St & Thelonious Monk Circle             40.775160   \n",
      "1913623            W 88 St & West End Ave             40.790254   \n",
      "1913624           W 70 St & Amsterdam Ave             40.777480   \n",
      "\n",
      "         end station longitude  bikeid    usertype  birth year  gender  \n",
      "0                   -73.993800   16583  Subscriber        1981       1  \n",
      "1                   -73.990985   31481  Subscriber        1988       1  \n",
      "2                   -73.999154   25004  Subscriber        1982       2  \n",
      "3                   -73.986580   25867  Subscriber        1986       1  \n",
      "4                   -73.943708   31351  Subscriber        1992       1  \n",
      "5                   -74.012342   16578  Subscriber        1956       1  \n",
      "6                   -74.013221   30973  Subscriber        1992       2  \n",
      "7                   -73.993929   30258    Customer        1969       0  \n",
      "8                   -73.982666   26490  Subscriber        1974       1  \n",
      "9                   -74.011296   30313  Subscriber        1991       2  \n",
      "10                  -74.011296   19063  Subscriber        1991       1  \n",
      "11                  -73.987882   17244  Subscriber        1983       1  \n",
      "12                  -74.009660   19478    Customer        1989       2  \n",
      "13                  -74.008119   28968  Subscriber        1989       2  \n",
      "14                  -73.998842   31636  Subscriber        1965       1  \n",
      "15                  -74.008119   30258  Subscriber        1987       2  \n",
      "16                  -74.007756   29849  Subscriber        1984       1  \n",
      "17                  -73.990931   28468  Subscriber        1987       1  \n",
      "18                  -73.988639   31457  Subscriber        1986       1  \n",
      "19                  -73.985162   25384  Subscriber        1974       1  \n",
      "20                  -73.947283   32199  Subscriber        1965       1  \n",
      "21                  -74.013221   27603    Customer        1993       1  \n",
      "22                  -73.988886   33012    Customer        1969       0  \n",
      "23                  -73.988886   29067    Customer        1969       0  \n",
      "24                  -73.990617   33429  Subscriber        1978       0  \n",
      "25                  -73.989186   15717  Subscriber        1956       1  \n",
      "26                  -73.991255   25478  Subscriber        1985       1  \n",
      "27                  -74.005226   31782  Subscriber        1982       2  \n",
      "28                  -73.994046   30095  Subscriber        1955       1  \n",
      "29                  -73.967416   25446  Subscriber        1983       1  \n",
      "...                        ...     ...         ...         ...     ...  \n",
      "1913595             -73.981918   27771  Subscriber        1986       2  \n",
      "1913596             -74.002116   21322  Subscriber        1989       2  \n",
      "1913597             -73.989187   27191  Subscriber        1986       1  \n",
      "1913598             -73.971146   21173  Subscriber        1991       2  \n",
      "1913599             -73.984527   32909  Subscriber        1986       1  \n",
      "1913600             -73.976342   25132  Subscriber        1979       2  \n",
      "1913601             -73.990985   28839  Subscriber        1965       1  \n",
      "1913602             -73.956753   19734  Subscriber        1994       1  \n",
      "1913603             -73.980930   32042  Subscriber        1985       1  \n",
      "1913604             -73.993915   27362  Subscriber        1970       1  \n",
      "1913605             -73.954071   32811  Subscriber        1991       1  \n",
      "1913606             -73.989187   31457  Subscriber        1987       2  \n",
      "1913607             -73.990541   33421  Subscriber        1981       1  \n",
      "1913608             -73.993934   18161  Subscriber        1963       1  \n",
      "1913609             -73.993934   28642  Subscriber        1992       1  \n",
      "1913610             -73.985624   15480  Subscriber        1985       1  \n",
      "1913611             -74.005301   28154  Subscriber        1979       1  \n",
      "1913612             -73.988639   31457  Subscriber        1987       1  \n",
      "1913613             -73.959025   31275  Subscriber        1987       1  \n",
      "1913614             -74.013221   29889  Subscriber        1982       1  \n",
      "1913615             -73.985162   17051  Subscriber        1993       2  \n",
      "1913616             -73.981918   30657  Subscriber        1970       1  \n",
      "1913617             -73.988038   25461  Subscriber        1986       1  \n",
      "1913618             -73.982614   33631  Subscriber        1969       1  \n",
      "1913619             -73.981693   15648  Subscriber        1988       2  \n",
      "1913620             -73.982614   29026  Subscriber        1969       1  \n",
      "1913621             -73.981918   19624  Subscriber        1995       1  \n",
      "1913622             -73.989187   32953  Subscriber        1985       2  \n",
      "1913623             -73.977183   30010  Subscriber        1989       1  \n",
      "1913624             -73.982886   18363  Subscriber        1974       1  \n",
      "\n",
      "[1913625 rows x 15 columns]\n"
     ]
    }
   ],
   "source": [
    "#Upload CitiBike data set from the .csv file and replace NAN values with 0.\n",
    "df_citi=pd.read_csv('201807-citibike-tripdata.csv')\n",
    "df_citi=df_citi.fillna(0)\n",
    "\n",
    "print(df_citi)"
   ]
  },
  {
   "cell_type": "markdown",
   "metadata": {},
   "source": [
    "###Assessing the data sets for Hypothesis 1: Are bike trips longer with CitiBike in NYC than FordGoBike in the Bay Area?"
   ]
  },
  {
   "cell_type": "markdown",
   "metadata": {},
   "source": [
    "####Describing the Data"
   ]
  },
  {
   "cell_type": "code",
   "execution_count": 56,
   "metadata": {},
   "outputs": [
    {
     "data": {
      "text/plain": [
       "count    199222.000000\n",
       "mean        907.710589\n",
       "std        2499.394774\n",
       "min          61.000000\n",
       "25%         353.000000\n",
       "50%         568.000000\n",
       "75%         908.000000\n",
       "max       85389.000000\n",
       "Name: duration_sec, dtype: float64"
      ]
     },
     "execution_count": 56,
     "metadata": {},
     "output_type": "execute_result"
    }
   ],
   "source": [
    "#Describing trip duration (in seconds) for FordGoBike in Bay Area\n",
    "\n",
    "df_ford['duration_sec'].describe()"
   ]
  },
  {
   "cell_type": "code",
   "execution_count": 52,
   "metadata": {},
   "outputs": [
    {
     "data": {
      "text/plain": [
       "count    1.913625e+06\n",
       "mean     1.074544e+03\n",
       "std      1.533963e+04\n",
       "min      6.100000e+01\n",
       "25%      3.810000e+02\n",
       "50%      6.560000e+02\n",
       "75%      1.161000e+03\n",
       "max      4.829587e+06\n",
       "Name: tripduration, dtype: float64"
      ]
     },
     "execution_count": 52,
     "metadata": {},
     "output_type": "execute_result"
    }
   ],
   "source": [
    "#Describing trip duration (in seconds) for CitiBike in NYC \n",
    "\n",
    "df_citi['tripduration'].describe()"
   ]
  },
  {
   "cell_type": "markdown",
   "metadata": {},
   "source": [
    "####Creating Histograms for Data Visualization"
   ]
  },
  {
   "cell_type": "code",
   "execution_count": 6,
   "metadata": {},
   "outputs": [
    {
     "data": {
      "text/plain": [
       "Text(0.5, 1.0, 'Length of Trips on CitiBike in NYC')"
      ]
     },
     "execution_count": 6,
     "metadata": {},
     "output_type": "execute_result"
    },
    {
     "data": {
      "image/png": "[encoded data removed]",
      "text/plain": [
       "<Figure size 1080x360 with 2 Axes>"
      ]
     },
     "metadata": {
      "needs_background": "light"
     },
     "output_type": "display_data"
    }
   ],
   "source": [
    "#Generate subplots of histograms for trip duration (in minutes) for both cities to examine distribution\n",
    "plt.figure(figsize=(15,5))\n",
    "\n",
    "plt.subplot(1,2,1)\n",
    "x=(df_ford['duration_sec']/60)\n",
    "plt.hist(x, color='steelblue',bins=np.arange(0,60), alpha=.5, )\n",
    "plt.xlabel('Trip Duration (in minutes)')\n",
    "plt.ylabel('Number of Trips')\n",
    "plt.title('Length of Trips on FordGoBike in Bay Area')\n",
    "\n",
    "plt.subplot(1,2,2)\n",
    "y=(df_citi['tripduration']/60)\n",
    "plt.hist(y, color='crimson', bins=np.arange(0,60), alpha=.5, )\n",
    "plt.xlabel('Trip Duration (in minutes)')\n",
    "plt.title('Length of Trips on CitiBike in NYC')\n"
   ]
  },
  {
   "cell_type": "code",
   "execution_count": 55,
   "metadata": {},
   "outputs": [
    {
     "data": {
      "text/plain": [
       "Text(0.5, 1.0, 'Normed Histograms')"
      ]
     },
     "execution_count": 55,
     "metadata": {},
     "output_type": "execute_result"
    },
    {
     "data": {
      "image/png": "[encoded data removed]",
      "text/plain": [
       "<Figure size 432x288 with 1 Axes>"
      ]
     },
     "metadata": {
      "needs_background": "light"
     },
     "output_type": "display_data"
    }
   ],
   "source": [
    "#Generate normalizing histograms for comparison\n",
    "\n",
    "plt.hist(x,normed=True, color='steelblue',bins=np.arange(0,60), label='FordGoBike, Bay Area', alpha=.5)\n",
    "plt.hist(y,normed=True, color='crimson', bins=np.arange(0,60),label='CitiBike, NYC', alpha=.5)\n",
    "plt.xlabel('Trip Duration (in minutes)')\n",
    "plt.legend(loc='upper right')\n",
    "plt.title('Normed Histograms')"
   ]
  },
  {
   "cell_type": "markdown",
   "metadata": {},
   "source": [
    "####Conducting a T-Test & P-Value Calculation for Trip Duration"
   ]
  },
  {
   "cell_type": "code",
   "execution_count": 57,
   "metadata": {},
   "outputs": [],
   "source": [
    "#Creating a sample of 1,000 from each population\n",
    "sample_ford=np.random.choice(x,1000,replace=True)\n",
    "sample_citi=np.random.choice(y,1000, replace=True) "
   ]
  },
  {
   "cell_type": "code",
   "execution_count": 59,
   "metadata": {},
   "outputs": [
    {
     "name": "stdout",
     "output_type": "stream",
     "text": [
      "Ttest_indResult(statistic=0.5164025922184455, pvalue=0.6056572820744788)\n"
     ]
    }
   ],
   "source": [
    "#Import ttest_ind function from scipy.stats for t-test\n",
    "from scipy.stats import ttest_ind\n",
    "print(ttest_ind(sample_citi, sample_ford, equal_var=False))"
   ]
  },
  {
   "cell_type": "markdown",
   "metadata": {},
   "source": [
    "####Observations and Results\n",
    "\n",
    "Just to reiterate, hypothesis #1 assumes that bike trip duration is longer with CitiBike in NYC than FordGoBike in the Bay Area. Therefore, the null hypothesis is that there is no difference in bike trip duration between the two cities. Although the normalized histogram appears to show that there are more FordGoBike trips than CitiBike trips that are between 0 to 20 minutes and more CitiBike trips than FordGoBike trips that are over 20 minutes, the p-value  of the sample set is around 0.606. Because the p-value is greater than 0.05, there is a weak evidence against the null hypothesis, therefore, the null hypothesis can not be rejected. "
   ]
  },
  {
   "cell_type": "markdown",
   "metadata": {},
   "source": [
    "###Hypothesis 2: Predicting that the Age Distribution of Users are Similar in NYC and Bay Area"
   ]
  },
  {
   "cell_type": "markdown",
   "metadata": {},
   "source": [
    "####Describing the Data"
   ]
  },
  {
   "cell_type": "code",
   "execution_count": 60,
   "metadata": {},
   "outputs": [
    {
     "data": {
      "text/plain": [
       "count    199222.000000\n",
       "mean       1860.211729\n",
       "std         479.949078\n",
       "min           0.000000\n",
       "25%        1976.000000\n",
       "50%        1986.000000\n",
       "75%        1991.000000\n",
       "max        2000.000000\n",
       "Name: member_birth_year, dtype: float64"
      ]
     },
     "execution_count": 60,
     "metadata": {},
     "output_type": "execute_result"
    }
   ],
   "source": [
    "#Detailed information on the birth years of users for FordGoBike\n",
    "\n",
    "df_ford['member_birth_year'].describe()"
   ]
  },
  {
   "cell_type": "code",
   "execution_count": 61,
   "metadata": {},
   "outputs": [
    {
     "data": {
      "text/plain": [
       "count    1.913625e+06\n",
       "mean     1.979275e+03\n",
       "std      1.175221e+01\n",
       "min      1.885000e+03\n",
       "25%      1.969000e+03\n",
       "50%      1.982000e+03\n",
       "75%      1.989000e+03\n",
       "max      2.002000e+03\n",
       "Name: birth year, dtype: float64"
      ]
     },
     "execution_count": 61,
     "metadata": {},
     "output_type": "execute_result"
    }
   ],
   "source": [
    "#Detailed information on the birth years of users for CitiBIke\n",
    "\n",
    "df_citi['birth year'].describe()"
   ]
  },
  {
   "cell_type": "markdown",
   "metadata": {},
   "source": [
    "####Creating Histogram to View Distribution & for Comparison"
   ]
  },
  {
   "cell_type": "code",
   "execution_count": 72,
   "metadata": {},
   "outputs": [
    {
     "data": {
      "text/plain": [
       "Text(0.5, 1.0, 'Birth Year of CitiBike Users in NYC')"
      ]
     },
     "execution_count": 72,
     "metadata": {},
     "output_type": "execute_result"
    },
    {
     "data": {
      "image/png": "[encoded data removed]",
      "text/plain": [
       "<Figure size 1080x360 with 2 Axes>"
      ]
     },
     "metadata": {
      "needs_background": "light"
     },
     "output_type": "display_data"
    }
   ],
   "source": [
    "#Generate subplots of histograms for birth years of users in both cities to examine distribution\n",
    "plt.figure(figsize=(15,5))\n",
    "\n",
    "plt.subplot(1,2,1)\n",
    "x2=df_ford['member_birth_year']\n",
    "plt.hist(x2, color='forestgreen',bins=np.arange(1950,2005), alpha=.5, )\n",
    "plt.xlabel('Birth Year')\n",
    "plt.ylabel('Number of Trips')\n",
    "plt.title('Birth Year of FordGoBike Users in Bay Area')\n",
    "\n",
    "plt.subplot(1,2,2)\n",
    "y2=df_citi['birth year']\n",
    "plt.hist(y2, color='slateblue', bins=np.arange(1950,2005), alpha=.5, )\n",
    "plt.xlabel('Birth Year')\n",
    "plt.title('Birth Year of CitiBike Users in NYC')"
   ]
  },
  {
   "cell_type": "code",
   "execution_count": 73,
   "metadata": {},
   "outputs": [
    {
     "data": {
      "text/plain": [
       "Text(0.5, 1.0, 'Normed Histograms')"
      ]
     },
     "execution_count": 73,
     "metadata": {},
     "output_type": "execute_result"
    },
    {
     "data": {
      "image/png": "[encoded data removed]",
      "text/plain": [
       "<Figure size 432x288 with 1 Axes>"
      ]
     },
     "metadata": {
      "needs_background": "light"
     },
     "output_type": "display_data"
    }
   ],
   "source": [
    "#Generate normalizing histograms for comparison\n",
    "\n",
    "plt.hist(x2,normed=True, color='forestgreen',bins=np.arange(1950,2005), label='FordGoBike, Bay Area', alpha=.5)\n",
    "plt.hist(y2,normed=True, color='slateblue', bins=np.arange(1950,2005),label='CitiBike, NYC', alpha=.5)\n",
    "plt.xlabel('Birth Year')\n",
    "plt.legend(loc='upper right')\n",
    "plt.title('Normed Histograms')"
   ]
  },
  {
   "cell_type": "markdown",
   "metadata": {},
   "source": [
    "Note: It should be addressed that the data for CitiBike shows an unusually high number for users born in 1969. This may be due to the default choice on the mobile application showing 1969 as the birth year. "
   ]
  },
  {
   "cell_type": "code",
   "execution_count": 19,
   "metadata": {},
   "outputs": [],
   "source": [
    "#To clean up the data set, users born in 1969 will be remove from both datasets\n",
    "df_ford_clean=df_ford[df_ford.member_birth_year != 1969.0]\n",
    "df_citi_clean=df_citi[df_citi['birth year'] != 1969]"
   ]
  },
  {
   "cell_type": "code",
   "execution_count": 23,
   "metadata": {},
   "outputs": [
    {
     "data": {
      "text/plain": [
       "Text(0.5, 1.0, 'Normed Histograms without Users Born in 1969')"
      ]
     },
     "execution_count": 23,
     "metadata": {},
     "output_type": "execute_result"
    },
    {
     "data": {
      "image/png": "[encoded data removed]",
      "text/plain": [
       "<Figure size 432x288 with 1 Axes>"
      ]
     },
     "metadata": {
      "needs_background": "light"
     },
     "output_type": "display_data"
    }
   ],
   "source": [
    "#Creating another normalized histogram without users born in 1969\n",
    "x3=df_ford_clean['member_birth_year']\n",
    "y3=df_citi_clean['birth year']\n",
    "\n",
    "plt.hist(x3,normed=True, color='forestgreen',bins=np.arange(1950,2005), label='FordGoBike, Bay Area', alpha=.5)\n",
    "plt.hist(y3,normed=True, color='slateblue', bins=np.arange(1950,2005),label='CitiBike, NYC', alpha=.5)\n",
    "plt.xlabel('Birth Year')\n",
    "plt.legend(loc='upper left')\n",
    "plt.title('Normed Histograms without Users Born in 1969')"
   ]
  },
  {
   "cell_type": "markdown",
   "metadata": {},
   "source": [
    "####Conducting a T-Test & P-Value Calculation for Birth Year "
   ]
  },
  {
   "cell_type": "code",
   "execution_count": 24,
   "metadata": {},
   "outputs": [],
   "source": [
    "#Creating a sample of 1,000 from each population\n",
    "sample_ford2=np.random.choice(x3,1000,replace=True)\n",
    "sample_citi2=np.random.choice(y3,1000, replace=True) "
   ]
  },
  {
   "cell_type": "code",
   "execution_count": 25,
   "metadata": {},
   "outputs": [
    {
     "name": "stdout",
     "output_type": "stream",
     "text": [
      "Ttest_indResult(statistic=7.835996916552605, pvalue=1.184831453898668e-14)\n"
     ]
    }
   ],
   "source": [
    "#Import ttest_ind function from scipy.stats for t-test\n",
    "from scipy.stats import ttest_ind\n",
    "print(ttest_ind(sample_citi2, sample_ford2, equal_var=False))"
   ]
  },
  {
   "cell_type": "markdown",
   "metadata": {},
   "source": [
    "####Observation and Results\n",
    "\n",
    "Note that hypothesis #2 states that the age distribution of FordGoBike users and CitiBike users are the same. In contrast, the null hypothesis is that the percentage of users from each birth year is NOT similar in the two cities. Because there was an unusually high number of users born in 1969 for CitiBike, possibly due to the default setting on the phone application, users born in 1969 were taken out from both datasets. \n",
    "\n",
    "In the normalized historgram, it looks like more CitiBike users than FordGoBike users are born between 1950 to around 1975. Conversely, more FordGoBike users than CitiBike users are born between 1980 to 2000. As a result of the analysis, CitiBike users tend to be older than FordGoBike users. This result is unexpected as hypothesis #2 predicted a similar age distribution in both cities. The p-value calculated through the t-test for the datasets is 1.18 * 10^(-14). Because the p-value is so low (lower than 0.05), we can reject the null hypothesis and conclude that there is a statistically significant difference between the two data set. \n"
   ]
  },
  {
   "cell_type": "markdown",
   "metadata": {},
   "source": [
    "###Examining hypothesis #3: Are half of the bike users male and the other half female in both NYC an the Bay Area?"
   ]
  },
  {
   "cell_type": "code",
   "execution_count": 100,
   "metadata": {},
   "outputs": [
    {
     "data": {
      "text/plain": [
       "Male            64.931530\n",
       "Female          24.052727\n",
       "Not Recorded    11.015742\n",
       "Name: gender, dtype: float64"
      ]
     },
     "execution_count": 100,
     "metadata": {},
     "output_type": "execute_result"
    }
   ],
   "source": [
    "#Calculating the percentage of male vs. female users for CitiBike in NYC\n",
    "#Need to convert value 1 to male and value 2 to female; a value of 0 is not recorded\n",
    "replacements = {'1': 'Male', '2': 'Female','0': 'Not Recorded'}\n",
    "df_citi['gender'].replace(replacements, inplace=True)\n",
    "df_citi['gender'].value_counts(normalize=True)*100"
   ]
  },
  {
   "cell_type": "code",
   "execution_count": 95,
   "metadata": {},
   "outputs": [
    {
     "data": {
      "text/plain": [
       "Male      68.019596\n",
       "Female    24.201142\n",
       "0          6.219193\n",
       "Other      1.560069\n",
       "Name: member_gender, dtype: float64"
      ]
     },
     "execution_count": 95,
     "metadata": {},
     "output_type": "execute_result"
    }
   ],
   "source": [
    "#Calculating the percentage of male vs. female users for FordGoBike in Bay Area\n",
    "df_ford['member_gender'].value_counts(normalize=True)*100"
   ]
  },
  {
   "cell_type": "code",
   "execution_count": 47,
   "metadata": {},
   "outputs": [
    {
     "data": {
      "text/plain": [
       "Text(0.5, 1.0, 'Male vs Female Users for CitiBike in NYC')"
      ]
     },
     "execution_count": 47,
     "metadata": {},
     "output_type": "execute_result"
    },
    {
     "data": {
      "image/png": "[encoded data removed]",
      "text/plain": [
       "<Figure size 864x360 with 2 Axes>"
      ]
     },
     "metadata": {},
     "output_type": "display_data"
    }
   ],
   "source": [
    "#Plotting the gender percentage in pie charts for CitiBike and FordGoBike\n",
    "plt.figure(figsize=(12,5))\n",
    "\n",
    "plt.subplot(1,2,1)\n",
    "labels='Male','Female', 'Not Reported'\n",
    "sizes=[68.02, 24.20, 7.78]\n",
    "colors=['powderblue','lightpink','wheat']\n",
    "plt.pie(sizes, labels=labels,colors=colors, autopct='%1.1f%%', shadow=True, startangle=90)\n",
    "plt.axis('equal')\n",
    "plt.title('Male vs Female Users for FordGoBike in Bay Area')\n",
    "\n",
    "plt.subplot(1,2,2)\n",
    "labels='Male','Female', 'Not Reported'\n",
    "sizes=[64.93, 24.05, 11.02]\n",
    "colors=['powderblue','lightpink','wheat']\n",
    "plt.pie(sizes, labels=labels, colors=colors, autopct='%1.1f%%', shadow=True, startangle=90)\n",
    "plt.axis('equal')\n",
    "plt.title('Male vs Female Users for CitiBike in NYC')\n"
   ]
  },
  {
   "cell_type": "markdown",
   "metadata": {},
   "source": [
    "####Observation and Results\n",
    "\n",
    "Hypothesis #3 can be rejected as the percentage of male users almost triple of female users in both cities. Possible reasons for this discrepancy can include bikes are too high or too heavy for many female users and marketing campaign not geared towards woman."
   ]
  },
  {
   "cell_type": "markdown",
   "metadata": {},
   "source": [
    "###Additional Useful Information Extracted from Data Sets"
   ]
  },
  {
   "cell_type": "markdown",
   "metadata": {},
   "source": [
    "####Percentage of User Type (Customer vs. Subscriber) in Both Cities"
   ]
  },
  {
   "cell_type": "code",
   "execution_count": 41,
   "metadata": {},
   "outputs": [
    {
     "data": {
      "text/plain": [
       "Subscriber    82.944153\n",
       "Customer      17.055847\n",
       "Name: user_type, dtype: float64"
      ]
     },
     "execution_count": 41,
     "metadata": {},
     "output_type": "execute_result"
    }
   ],
   "source": [
    "#Calculating percentage for each user type for FordGoBike in Bay Area\n",
    "df_ford['user_type'].value_counts(normalize=True)*100"
   ]
  },
  {
   "cell_type": "code",
   "execution_count": 44,
   "metadata": {},
   "outputs": [
    {
     "data": {
      "text/plain": [
       "Subscriber    85.113123\n",
       "Customer      14.886877\n",
       "Name: usertype, dtype: float64"
      ]
     },
     "execution_count": 44,
     "metadata": {},
     "output_type": "execute_result"
    }
   ],
   "source": [
    "#Calculating percentage for each user type for CitiBike in New York City\n",
    "df_citi['usertype'].value_counts(normalize=True)*100"
   ]
  },
  {
   "cell_type": "code",
   "execution_count": 62,
   "metadata": {},
   "outputs": [
    {
     "data": {
      "text/plain": [
       "Text(0.5, 1.0, 'User Types with CitiBike in NYC')"
      ]
     },
     "execution_count": 62,
     "metadata": {},
     "output_type": "execute_result"
    },
    {
     "data": {
      "image/png": "[encoded data removed]",
      "text/plain": [
       "<Figure size 864x360 with 2 Axes>"
      ]
     },
     "metadata": {},
     "output_type": "display_data"
    }
   ],
   "source": [
    "#Plotting the user type percentage in pie charts for CitiBike and FordGoBike\n",
    "plt.figure(figsize=(12,5))\n",
    "\n",
    "plt.subplot(1,2,1)\n",
    "labels='Subscriber','Customer'\n",
    "sizes=[82.94,17.06]\n",
    "colors=['thistle','peachpuff']\n",
    "explode=[0.1,0.1]\n",
    "plt.pie(sizes, labels=labels,explode=explode,colors=colors, autopct='%1.1f%%', shadow=True, startangle=90)\n",
    "plt.axis('equal')\n",
    "plt.title('User Types with FordGoBike in Bay Area')\n",
    "\n",
    "plt.subplot(1,2,2)\n",
    "labels='Subscriber','Customer'\n",
    "sizes=[85.11,14.89]\n",
    "colors=['thistle','peachpuff']\n",
    "explode=[0.1,0.1]\n",
    "plt.pie(sizes, labels=labels, explode=explode, colors=colors, autopct='%1.1f%%', shadow=True, startangle=90)\n",
    "plt.axis('equal')\n",
    "plt.title('User Types with CitiBike in NYC')"
   ]
  },
  {
   "cell_type": "markdown",
   "metadata": {},
   "source": [
    "The two companies have a similar percentage of subscriber, 82.9% and 85.1% for FordGoBike and CitiBike, respectively. According to CitiBike's website, a user is considered a subscriber if they purchase an annual membership. A customer is a user who either purchased a 24-hour pass or a 3-day pass. This information is extremely crucial to the bike-sharing companies as this may correlate to customer retention and effective marketing strategies. "
   ]
  },
  {
   "cell_type": "markdown",
   "metadata": {},
   "source": [
    "####The Start Time of Bike Trips Taken in Bay Area and NYC"
   ]
  },
  {
   "cell_type": "code",
   "execution_count": 70,
   "metadata": {},
   "outputs": [
    {
     "data": {
      "text/plain": [
       "pandas.core.series.Series"
      ]
     },
     "execution_count": 70,
     "metadata": {},
     "output_type": "execute_result"
    }
   ],
   "source": [
    "#Checking the data type for the start time column of FordGoBike in Bay Area\n",
    "import datetime\n",
    "type(df_ford['start_time'])"
   ]
  },
  {
   "cell_type": "code",
   "execution_count": 74,
   "metadata": {},
   "outputs": [],
   "source": [
    "#Since it is a Series, can access the hour using the following code and creating a new column.\n",
    "df_ford[\"start_time\"] = pd.to_datetime(df_ford[\"start_time\"])\n",
    "df_ford['hour_only']=df_ford['start_time'].dt.hour"
   ]
  },
  {
   "cell_type": "code",
   "execution_count": 78,
   "metadata": {},
   "outputs": [
    {
     "name": "stdout",
     "output_type": "stream",
     "text": [
      "0         18\n",
      "1         17\n",
      "2         21\n",
      "3         18\n",
      "4          9\n",
      "5         18\n",
      "6         19\n",
      "7         17\n",
      "8         15\n",
      "9         22\n",
      "10        19\n",
      "11        23\n",
      "12        23\n",
      "13        23\n",
      "14        22\n",
      "15        22\n",
      "16        23\n",
      "17        23\n",
      "18        23\n",
      "19        23\n",
      "20        23\n",
      "21        23\n",
      "22        23\n",
      "23        23\n",
      "24        23\n",
      "25        23\n",
      "26        23\n",
      "27        23\n",
      "28        23\n",
      "29        23\n",
      "          ..\n",
      "199192     0\n",
      "199193     0\n",
      "199194     0\n",
      "199195     0\n",
      "199196     0\n",
      "199197     0\n",
      "199198     0\n",
      "199199     0\n",
      "199200     0\n",
      "199201     0\n",
      "199202     0\n",
      "199203     0\n",
      "199204     0\n",
      "199205     0\n",
      "199206     0\n",
      "199207     0\n",
      "199208     0\n",
      "199209     0\n",
      "199210     0\n",
      "199211     0\n",
      "199212     0\n",
      "199213     0\n",
      "199214     0\n",
      "199215     0\n",
      "199216     0\n",
      "199217     0\n",
      "199218     0\n",
      "199219     0\n",
      "199220     0\n",
      "199221     0\n",
      "Name: hour_only, Length: 199222, dtype: int64\n"
     ]
    }
   ],
   "source": [
    "#Printing out the new column ('hour_only') to make sure the code is executed properly.\n",
    "print(df_ford['hour_only'])"
   ]
  },
  {
   "cell_type": "code",
   "execution_count": 85,
   "metadata": {},
   "outputs": [
    {
     "data": {
      "text/html": [
       "<div>\n",
       "<style scoped>\n",
       "    .dataframe tbody tr th:only-of-type {\n",
       "        vertical-align: middle;\n",
       "    }\n",
       "\n",
       "    .dataframe tbody tr th {\n",
       "        vertical-align: top;\n",
       "    }\n",
       "\n",
       "    .dataframe thead th {\n",
       "        text-align: right;\n",
       "    }\n",
       "</style>\n",
       "<table border=\"1\" class=\"dataframe\">\n",
       "  <thead>\n",
       "    <tr style=\"text-align: right;\">\n",
       "      <th></th>\n",
       "      <th>count</th>\n",
       "    </tr>\n",
       "    <tr>\n",
       "      <th>hour_only</th>\n",
       "      <th></th>\n",
       "    </tr>\n",
       "  </thead>\n",
       "  <tbody>\n",
       "    <tr>\n",
       "      <th>(0, 6]</th>\n",
       "      <td>6476</td>\n",
       "    </tr>\n",
       "    <tr>\n",
       "      <th>(6, 12]</th>\n",
       "      <td>75073</td>\n",
       "    </tr>\n",
       "    <tr>\n",
       "      <th>(12, 18]</th>\n",
       "      <td>85544</td>\n",
       "    </tr>\n",
       "    <tr>\n",
       "      <th>(18, 24]</th>\n",
       "      <td>31109</td>\n",
       "    </tr>\n",
       "  </tbody>\n",
       "</table>\n",
       "</div>"
      ],
      "text/plain": [
       "           count\n",
       "hour_only       \n",
       "(0, 6]      6476\n",
       "(6, 12]    75073\n",
       "(12, 18]   85544\n",
       "(18, 24]   31109"
      ]
     },
     "execution_count": 85,
     "metadata": {},
     "output_type": "execute_result"
    }
   ],
   "source": [
    "#Grouping the start hours for FordGoBike into four 6-hours intervals: 1\n",
    "#2 am to 6 am, 6 am to 12 pm, 12 pm to 6 pm, and 6 pm to 11:59 pm\n",
    "bins=pd.cut(df_ford['hour_only'], [0,6,12,18,24])\n",
    "df_ford.groupby(bins)['hour_only'].agg(['count'])"
   ]
  },
  {
   "cell_type": "code",
   "execution_count": 86,
   "metadata": {},
   "outputs": [],
   "source": [
    "#Do the same for CitiBike, creating a new column with just the start hour value.\n",
    "df_citi[\"starttime\"] = pd.to_datetime(df_citi[\"starttime\"])\n",
    "df_citi['hour_only']=df_citi['starttime'].dt.hour"
   ]
  },
  {
   "cell_type": "code",
   "execution_count": 88,
   "metadata": {},
   "outputs": [
    {
     "data": {
      "text/html": [
       "<div>\n",
       "<style scoped>\n",
       "    .dataframe tbody tr th:only-of-type {\n",
       "        vertical-align: middle;\n",
       "    }\n",
       "\n",
       "    .dataframe tbody tr th {\n",
       "        vertical-align: top;\n",
       "    }\n",
       "\n",
       "    .dataframe thead th {\n",
       "        text-align: right;\n",
       "    }\n",
       "</style>\n",
       "<table border=\"1\" class=\"dataframe\">\n",
       "  <thead>\n",
       "    <tr style=\"text-align: right;\">\n",
       "      <th></th>\n",
       "      <th>count</th>\n",
       "    </tr>\n",
       "    <tr>\n",
       "      <th>hour_only</th>\n",
       "      <th></th>\n",
       "    </tr>\n",
       "  </thead>\n",
       "  <tbody>\n",
       "    <tr>\n",
       "      <th>(0, 6]</th>\n",
       "      <td>75017</td>\n",
       "    </tr>\n",
       "    <tr>\n",
       "      <th>(6, 12]</th>\n",
       "      <td>609486</td>\n",
       "    </tr>\n",
       "    <tr>\n",
       "      <th>(12, 18]</th>\n",
       "      <td>830415</td>\n",
       "    </tr>\n",
       "    <tr>\n",
       "      <th>(18, 24]</th>\n",
       "      <td>380107</td>\n",
       "    </tr>\n",
       "  </tbody>\n",
       "</table>\n",
       "</div>"
      ],
      "text/plain": [
       "            count\n",
       "hour_only        \n",
       "(0, 6]      75017\n",
       "(6, 12]    609486\n",
       "(12, 18]   830415\n",
       "(18, 24]   380107"
      ]
     },
     "execution_count": 88,
     "metadata": {},
     "output_type": "execute_result"
    }
   ],
   "source": [
    "#Grouping the start hours for CitiBike into four 6-hours intervals: 1\n",
    "#2 am to 6 am, 6 am to 12 pm, 12 pm to 6 pm, and 6 pm to 11:59 pm\n",
    "bins=pd.cut(df_citi['hour_only'], [0,6,12,18,24])\n",
    "df_citi.groupby(bins)['hour_only'].agg(['count'])"
   ]
  },
  {
   "cell_type": "code",
   "execution_count": 95,
   "metadata": {},
   "outputs": [
    {
     "data": {
      "text/plain": [
       "Text(0.5, 1.0, 'Start Time of Trips on CitiBike')"
      ]
     },
     "execution_count": 95,
     "metadata": {},
     "output_type": "execute_result"
    },
    {
     "data": {
      "image/png": "[encoded data removed]",
      "text/plain": [
       "<Figure size 864x360 with 2 Axes>"
      ]
     },
     "metadata": {},
     "output_type": "display_data"
    }
   ],
   "source": [
    "#Creating a pie chart of start hours\n",
    "plt.figure(figsize=(12,5))\n",
    "\n",
    "plt.subplot(1,2,1)\n",
    "labels='12am-6am','6am-12pm','12pm-6pm','6pm-11:59pm'\n",
    "sizes=[6476,75073,85544,31109]\n",
    "colors=['royalblue','steelblue','lightblue','cadetblue']\n",
    "plt.pie(sizes, labels=labels,colors=colors, autopct='%1.1f%%', shadow=True, startangle=90)\n",
    "plt.axis('equal')\n",
    "plt.title('Start Time of Trips on FordGoBike in Bay Area')\n",
    "\n",
    "plt.subplot(1,2,2)\n",
    "labels='12am-6am','6am-12pm','12pm-6pm','6pm-11:59pm'\n",
    "sizes=[75017,609486,830415,380107]\n",
    "colors=['royalblue','steelblue','lightblue','cadetblue']\n",
    "plt.pie(sizes, labels=labels, colors=colors, autopct='%1.1f%%', shadow=True, startangle=90)\n",
    "plt.axis('equal')\n",
    "plt.title('Start Time of Trips on CitiBike in NYC')"
   ]
  },
  {
   "cell_type": "markdown",
   "metadata": {},
   "source": [
    "The data shown in the pie charts are what would be expected when considering human activities throughout the day. The majority of bike usage occurs between 6 am to 6 pm, this is a trend that can be observed with both FordGoBike and CitiBike. This makes sense as most individuals are out and about during this time period, whether it would be heading to school, commuting to work, running errands, or leisurely enjoying a bike ride, etc. The least usage is between 12 am to 6 am, which is expected as issues of poor lighting and safety can be concerns for bike users. This information can be useful to CitiBIke and FordGoBike to know when peak usage occurs and make sure there is enough staff to redistribute the bikes at popular stations to avoid bike shortage."
   ]
  },
  {
   "cell_type": "markdown",
   "metadata": {},
   "source": [
    "###Propose Further Research\n",
    "\n",
    "Further research on these data sets can include producing heat maps of bike stations, origins-destinations maps of bike trips, and graduated symbol maps with popular start and stop locations. It will also be important to see whether bike stations are located in areas that can connect users to other modes of transportation, such as light rail, transit centers, bus stops, heavy rail stations, subway stations, ferry terminals, etc. Bike sharing can be a great solution for first-mile and last-mile problem in urban cities, especially in New York City and the San Francisco Bay Area. Information obtained through analysis of these data sets can be useful to not only FordGoBike and CitiBike operators, but also of significance to public agencies. Many cities are ramping up their bicycle infrastructure to make it safer to bike within their jurisdictions as a way to try to reduce traffic congestion. If public agencies can determine where bicycle infrastructures (protected bike lanes, buffered bike lanes, painted bike lanes)are needed, it can beneficial for all the stakeholders involved. In closing, the information extracted from these datasets have the potential to save lives. FordGoBike and the City of San Francisco was in the news earlier this month on March 8th, 2019 (https://www.sfexaminer.com/news/woman-struck-and-killed-while-riding-a-ford-gobike-in-south-of-market-neighborhood/) when a car struck a bicyclist riding on FordGoBike in South of Market Neighborhood in the city. This is a hot issue as citizens calls for more bicycle infrastructures to make it safer for bicyclist, especially with the rise in bike-sharing. \n",
    "\n",
    "Note: First-mile and last-mile problem often refers to passenger travel in the context of getting to/from bus and rail stops. For example, passengers must first walk, bike, or drive themselves to and from the nearest station (LA Metro https://www.metro.net/projects/first-last/).\n",
    "\n"
   ]
  }
 ],
 "metadata": {
  "kernelspec": {
   "display_name": "Python 3",
   "language": "python",
   "name": "python3"
  },
  "language_info": {
   "codemirror_mode": {
    "name": "ipython",
    "version": 3
   },
   "file_extension": ".py",
   "mimetype": "text/x-python",
   "name": "python",
   "nbconvert_exporter": "python",
   "pygments_lexer": "ipython3",
   "version": "3.7.1"
  }
 },
 "nbformat": 4,
 "nbformat_minor": 2
}
